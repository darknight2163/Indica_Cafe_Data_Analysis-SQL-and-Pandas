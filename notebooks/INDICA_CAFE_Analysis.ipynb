{
  "cells": [
    {
      "cell_type": "markdown",
      "metadata": {
        "id": "OIw8NEWXpXlH"
      },
      "source": [
        " **INTRODUCTION**\n",
        "\n",
        "*   Welcome to the Indica Café Data Analysis Project. This notebook aims to analyze customer data and menu performance from the Indica Café. The café recently introduced a new menu, and as the data analyst, your goal is to identify trends and insights regarding the performance of various dishes and customer preferences.\n",
        "\n",
        "**OBJECTIVES**\n",
        "1. Explore the Items Table: Analyze the menu items to understand the distribution of dishes across categories, pricing, and identify the most and least expensive items.\n",
        "2. Explore the Orders Table: Investigate customer order data, including order frequency, date range, and order sizes.\n",
        "3. Analyze Customer Behavior: Combine menu and order data to assess customer preferences, identify top-spending orders, and explore the impact of the new menu.\n",
        "\n",
        "**Tools and Libraries**\n",
        "\n",
        "This analysis will be conducted using the SQL queries along with the following Python libraries:\n",
        "* **Pandas**: For data manipulation and analysis.\n",
        "* **Seaborn** and **Matplotlib**: For visualizations, including bar plots and histograms.\n",
        "* **Plotly Express**: For interactive and advanced visualizations.\n",
        "* **SQLite**: As the database engine to store and query the data.\n",
        "\n",
        "\n",
        "\n"
      ]
    },
    {
      "cell_type": "markdown",
      "metadata": {
        "id": "4q9QzI822VXb"
      },
      "source": [
        "**Install necessary libraries if you haven't already:**"
      ]
    },
    {
      "cell_type": "code",
      "execution_count": 1,
      "metadata": {
        "colab": {
          "base_uri": "https://localhost:8080/"
        },
        "collapsed": true,
        "id": "O1BWYomB14Ov",
        "outputId": "707711d0-912c-4a89-ba48-bd9f21039e5e"
      },
      "outputs": [
        {
          "name": "stdout",
          "output_type": "stream",
          "text": [
            "Requirement already satisfied: pandas in d:\\program files\\miniconda3\\envs\\ml\\lib\\site-packages (2.2.2)\n",
            "Requirement already satisfied: matplotlib in d:\\program files\\miniconda3\\envs\\ml\\lib\\site-packages (3.8.3)\n",
            "Requirement already satisfied: seaborn in d:\\program files\\miniconda3\\envs\\ml\\lib\\site-packages (0.13.2)\n",
            "Requirement already satisfied: sqlalchemy in d:\\program files\\miniconda3\\envs\\ml\\lib\\site-packages (2.0.32)\n",
            "Requirement already satisfied: pymysql in d:\\program files\\miniconda3\\envs\\ml\\lib\\site-packages (1.1.1)\n",
            "Requirement already satisfied: plotly in d:\\program files\\miniconda3\\envs\\ml\\lib\\site-packages (5.23.0)\n",
            "Requirement already satisfied: numpy>=1.22.4 in d:\\program files\\miniconda3\\envs\\ml\\lib\\site-packages (from pandas) (1.26.4)\n",
            "Requirement already satisfied: python-dateutil>=2.8.2 in d:\\program files\\miniconda3\\envs\\ml\\lib\\site-packages (from pandas) (2.9.0)\n",
            "Requirement already satisfied: pytz>=2020.1 in d:\\program files\\miniconda3\\envs\\ml\\lib\\site-packages (from pandas) (2024.1)\n",
            "Requirement already satisfied: tzdata>=2022.7 in d:\\program files\\miniconda3\\envs\\ml\\lib\\site-packages (from pandas) (2024.1)\n",
            "Requirement already satisfied: contourpy>=1.0.1 in d:\\program files\\miniconda3\\envs\\ml\\lib\\site-packages (from matplotlib) (1.2.1)\n",
            "Requirement already satisfied: cycler>=0.10 in d:\\program files\\miniconda3\\envs\\ml\\lib\\site-packages (from matplotlib) (0.12.1)\n",
            "Requirement already satisfied: fonttools>=4.22.0 in d:\\program files\\miniconda3\\envs\\ml\\lib\\site-packages (from matplotlib) (4.53.1)\n",
            "Requirement already satisfied: kiwisolver>=1.3.1 in d:\\program files\\miniconda3\\envs\\ml\\lib\\site-packages (from matplotlib) (1.4.5)\n",
            "Requirement already satisfied: packaging>=20.0 in d:\\program files\\miniconda3\\envs\\ml\\lib\\site-packages (from matplotlib) (24.1)\n",
            "Requirement already satisfied: pillow>=8 in d:\\program files\\miniconda3\\envs\\ml\\lib\\site-packages (from matplotlib) (10.4.0)\n",
            "Requirement already satisfied: pyparsing>=2.3.1 in d:\\program files\\miniconda3\\envs\\ml\\lib\\site-packages (from matplotlib) (3.1.2)\n",
            "Requirement already satisfied: importlib-resources>=3.2.0 in d:\\program files\\miniconda3\\envs\\ml\\lib\\site-packages (from matplotlib) (6.4.0)\n",
            "Requirement already satisfied: typing-extensions>=4.6.0 in d:\\program files\\miniconda3\\envs\\ml\\lib\\site-packages (from sqlalchemy) (4.12.2)\n",
            "Requirement already satisfied: greenlet!=0.4.17 in d:\\program files\\miniconda3\\envs\\ml\\lib\\site-packages (from sqlalchemy) (3.0.3)\n",
            "Requirement already satisfied: tenacity>=6.2.0 in d:\\program files\\miniconda3\\envs\\ml\\lib\\site-packages (from plotly) (9.0.0)\n",
            "Requirement already satisfied: zipp>=3.1.0 in d:\\program files\\miniconda3\\envs\\ml\\lib\\site-packages (from importlib-resources>=3.2.0->matplotlib) (3.19.2)\n",
            "Requirement already satisfied: six>=1.5 in d:\\program files\\miniconda3\\envs\\ml\\lib\\site-packages (from python-dateutil>=2.8.2->pandas) (1.16.0)\n",
            "Note: you may need to restart the kernel to use updated packages.\n"
          ]
        }
      ],
      "source": [
        "%pip install pandas matplotlib seaborn sqlalchemy pymysql plotly"
      ]
    },
    {
      "cell_type": "markdown",
      "metadata": {
        "id": "RskQmUuq2dPk"
      },
      "source": [
        "**Import the required libraries in your notebook:**"
      ]
    },
    {
      "cell_type": "code",
      "execution_count": 2,
      "metadata": {
        "id": "BntmjdD72eY9"
      },
      "outputs": [],
      "source": [
        "import pandas as pd\n",
        "import matplotlib.pyplot as plt\n",
        "import seaborn as sns\n",
        "from sqlalchemy import create_engine\n",
        "import plotly.express as px\n",
        "import warnings"
      ]
    },
    {
      "cell_type": "markdown",
      "metadata": {
        "id": "qPVdXqvh3MK6"
      },
      "source": [
        "**Download the database creation file using this [link](https://drive.google.com/file/d/1XmwIgSD0h_5P_9VecKkV6AQxPc5_BTrJ/view?usp=sharing) and make sure to upload it in the working directory of this notebook.**\n",
        "\n",
        "*   If you're working on colab then upload directly in the files as shown below:\n",
        "\n",
        "* ![file_upload.png](data:image/png;base64,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)\n",
        "\n"
      ]
    },
    {
      "cell_type": "markdown",
      "metadata": {
        "id": "ntJss3FA2xvI"
      },
      "source": [
        "**Set up a connection for SQL database (online):**"
      ]
    },
    {
      "cell_type": "code",
      "execution_count": 3,
      "metadata": {},
      "outputs": [
        {
          "name": "stdout",
          "output_type": "stream",
          "text": [
            "e:\\Documents\\01. SQL\\2.maven_restaurant_analysis\n"
          ]
        }
      ],
      "source": [
        "!cd"
      ]
    },
    {
      "cell_type": "code",
      "execution_count": 4,
      "metadata": {
        "colab": {
          "base_uri": "https://localhost:8080/"
        },
        "id": "ovynoJcU21nh",
        "outputId": "742f7559-8d97-49a3-9038-2ca08314280f"
      },
      "outputs": [
        {
          "name": "stdout",
          "output_type": "stream",
          "text": [
            "SQL script executed successfully.\n",
            "Tables in database:\n",
            "            name\n",
            "0  order_details\n",
            "1     menu_items\n",
            "Data from menu_items table:\n",
            "   menu_item_id         item_name  category  price\n",
            "0           101         Hamburger  American  12.95\n",
            "1           102      Cheeseburger  American  13.95\n",
            "2           103           Hot Dog  American   9.00\n",
            "3           104     Veggie Burger  American  10.50\n",
            "4           105      Mac & Cheese  American   7.00\n",
            "5           106      French Fries  American   7.00\n",
            "6           107    Orange Chicken     Asian  16.50\n",
            "7           108     Tofu Pad Thai     Asian  14.50\n",
            "8           109  Korean Beef Bowl     Asian  17.95\n",
            "9           110        Pork Ramen     Asian  17.95\n"
          ]
        }
      ],
      "source": [
        "import sqlite3\n",
        "from sqlalchemy import create_engine\n",
        "import pandas as pd\n",
        "\n",
        "# Path to your uploaded SQL file\n",
        "sql_file_path = 'create_restaurant_dbsqlite.sql'\n",
        "\n",
        "# Create an in-memory SQLite database\n",
        "engine = create_engine('sqlite:///:memory:')\n",
        "\n",
        "# Function to execute SQL script\n",
        "def execute_sql_script(engine, script_path):\n",
        "    # Connect to the in-memory SQLite database\n",
        "    conn = engine.raw_connection()\n",
        "    cursor = conn.cursor()\n",
        "    try:\n",
        "        # Read and execute the SQL script\n",
        "        with open(script_path, 'r') as file:\n",
        "            sql_script = file.read()\n",
        "        cursor.executescript(sql_script)\n",
        "        conn.commit()\n",
        "        print(\"SQL script executed successfully.\")\n",
        "    except Exception as e:\n",
        "        print(f\"An error occurred: {e}\")\n",
        "    finally:\n",
        "        cursor.close()\n",
        "        conn.close()\n",
        "\n",
        "# Execute the SQL script\n",
        "execute_sql_script(engine, sql_file_path)\n",
        "\n",
        "# Verify the tables in the database\n",
        "tables_df = pd.read_sql(\"SELECT name FROM sqlite_master WHERE type='table';\", engine)\n",
        "print(\"Tables in database:\")\n",
        "print(tables_df)\n",
        "\n",
        "# Example query to get data from a table\n",
        "try:\n",
        "    df = pd.read_sql(\"SELECT * FROM menu_items;\", engine)\n",
        "    print(\"Data from menu_items table:\")\n",
        "    print(df.head(10))\n",
        "except Exception as e:\n",
        "    print(f\"An error occurred while querying the table: {e}\")\n"
      ]
    },
    {
      "cell_type": "markdown",
      "metadata": {
        "id": "cDGJSWtJ20za"
      },
      "source": [
        "**You can now run the SQL queries.**"
      ]
    },
    {
      "cell_type": "markdown",
      "metadata": {
        "id": "VX1Xt9lZ2kKs"
      },
      "source": [
        "## **Objective 1**\n",
        "\n"
      ]
    },
    {
      "cell_type": "markdown",
      "metadata": {
        "id": "L3a3rsdu2pzp"
      },
      "source": [
        "**1. View the Menu Items Table:**"
      ]
    },
    {
      "cell_type": "code",
      "execution_count": 5,
      "metadata": {
        "colab": {
          "base_uri": "https://localhost:8080/",
          "height": 1000
        },
        "collapsed": true,
        "id": "_5ORQN3vDoje",
        "outputId": "c0d462e0-679f-4802-f1cb-a366fab96f9f"
      },
      "outputs": [
        {
          "data": {
            "text/html": [
              "<div>\n",
              "<style scoped>\n",
              "    .dataframe tbody tr th:only-of-type {\n",
              "        vertical-align: middle;\n",
              "    }\n",
              "\n",
              "    .dataframe tbody tr th {\n",
              "        vertical-align: top;\n",
              "    }\n",
              "\n",
              "    .dataframe thead th {\n",
              "        text-align: right;\n",
              "    }\n",
              "</style>\n",
              "<table border=\"1\" class=\"dataframe\">\n",
              "  <thead>\n",
              "    <tr style=\"text-align: right;\">\n",
              "      <th></th>\n",
              "      <th>menu_item_id</th>\n",
              "      <th>item_name</th>\n",
              "      <th>category</th>\n",
              "      <th>price</th>\n",
              "    </tr>\n",
              "  </thead>\n",
              "  <tbody>\n",
              "    <tr>\n",
              "      <th>0</th>\n",
              "      <td>101</td>\n",
              "      <td>Hamburger</td>\n",
              "      <td>American</td>\n",
              "      <td>12.95</td>\n",
              "    </tr>\n",
              "    <tr>\n",
              "      <th>1</th>\n",
              "      <td>102</td>\n",
              "      <td>Cheeseburger</td>\n",
              "      <td>American</td>\n",
              "      <td>13.95</td>\n",
              "    </tr>\n",
              "    <tr>\n",
              "      <th>2</th>\n",
              "      <td>103</td>\n",
              "      <td>Hot Dog</td>\n",
              "      <td>American</td>\n",
              "      <td>9.00</td>\n",
              "    </tr>\n",
              "    <tr>\n",
              "      <th>3</th>\n",
              "      <td>104</td>\n",
              "      <td>Veggie Burger</td>\n",
              "      <td>American</td>\n",
              "      <td>10.50</td>\n",
              "    </tr>\n",
              "    <tr>\n",
              "      <th>4</th>\n",
              "      <td>105</td>\n",
              "      <td>Mac &amp; Cheese</td>\n",
              "      <td>American</td>\n",
              "      <td>7.00</td>\n",
              "    </tr>\n",
              "    <tr>\n",
              "      <th>5</th>\n",
              "      <td>106</td>\n",
              "      <td>French Fries</td>\n",
              "      <td>American</td>\n",
              "      <td>7.00</td>\n",
              "    </tr>\n",
              "    <tr>\n",
              "      <th>6</th>\n",
              "      <td>107</td>\n",
              "      <td>Orange Chicken</td>\n",
              "      <td>Asian</td>\n",
              "      <td>16.50</td>\n",
              "    </tr>\n",
              "    <tr>\n",
              "      <th>7</th>\n",
              "      <td>108</td>\n",
              "      <td>Tofu Pad Thai</td>\n",
              "      <td>Asian</td>\n",
              "      <td>14.50</td>\n",
              "    </tr>\n",
              "    <tr>\n",
              "      <th>8</th>\n",
              "      <td>109</td>\n",
              "      <td>Korean Beef Bowl</td>\n",
              "      <td>Asian</td>\n",
              "      <td>17.95</td>\n",
              "    </tr>\n",
              "    <tr>\n",
              "      <th>9</th>\n",
              "      <td>110</td>\n",
              "      <td>Pork Ramen</td>\n",
              "      <td>Asian</td>\n",
              "      <td>17.95</td>\n",
              "    </tr>\n",
              "    <tr>\n",
              "      <th>10</th>\n",
              "      <td>111</td>\n",
              "      <td>California Roll</td>\n",
              "      <td>Asian</td>\n",
              "      <td>11.95</td>\n",
              "    </tr>\n",
              "    <tr>\n",
              "      <th>11</th>\n",
              "      <td>112</td>\n",
              "      <td>Salmon Roll</td>\n",
              "      <td>Asian</td>\n",
              "      <td>14.95</td>\n",
              "    </tr>\n",
              "    <tr>\n",
              "      <th>12</th>\n",
              "      <td>113</td>\n",
              "      <td>Edamame</td>\n",
              "      <td>Asian</td>\n",
              "      <td>5.00</td>\n",
              "    </tr>\n",
              "    <tr>\n",
              "      <th>13</th>\n",
              "      <td>114</td>\n",
              "      <td>Potstickers</td>\n",
              "      <td>Asian</td>\n",
              "      <td>9.00</td>\n",
              "    </tr>\n",
              "    <tr>\n",
              "      <th>14</th>\n",
              "      <td>115</td>\n",
              "      <td>Chicken Tacos</td>\n",
              "      <td>Mexican</td>\n",
              "      <td>11.95</td>\n",
              "    </tr>\n",
              "    <tr>\n",
              "      <th>15</th>\n",
              "      <td>116</td>\n",
              "      <td>Steak Tacos</td>\n",
              "      <td>Mexican</td>\n",
              "      <td>13.95</td>\n",
              "    </tr>\n",
              "    <tr>\n",
              "      <th>16</th>\n",
              "      <td>117</td>\n",
              "      <td>Chicken Burrito</td>\n",
              "      <td>Mexican</td>\n",
              "      <td>12.95</td>\n",
              "    </tr>\n",
              "    <tr>\n",
              "      <th>17</th>\n",
              "      <td>118</td>\n",
              "      <td>Steak Burrito</td>\n",
              "      <td>Mexican</td>\n",
              "      <td>14.95</td>\n",
              "    </tr>\n",
              "    <tr>\n",
              "      <th>18</th>\n",
              "      <td>119</td>\n",
              "      <td>Chicken Torta</td>\n",
              "      <td>Mexican</td>\n",
              "      <td>11.95</td>\n",
              "    </tr>\n",
              "    <tr>\n",
              "      <th>19</th>\n",
              "      <td>120</td>\n",
              "      <td>Steak Torta</td>\n",
              "      <td>Mexican</td>\n",
              "      <td>13.95</td>\n",
              "    </tr>\n",
              "    <tr>\n",
              "      <th>20</th>\n",
              "      <td>121</td>\n",
              "      <td>Cheese Quesadillas</td>\n",
              "      <td>Mexican</td>\n",
              "      <td>10.50</td>\n",
              "    </tr>\n",
              "    <tr>\n",
              "      <th>21</th>\n",
              "      <td>122</td>\n",
              "      <td>Chips &amp; Salsa</td>\n",
              "      <td>Mexican</td>\n",
              "      <td>7.00</td>\n",
              "    </tr>\n",
              "    <tr>\n",
              "      <th>22</th>\n",
              "      <td>123</td>\n",
              "      <td>Chips &amp; Guacamole</td>\n",
              "      <td>Mexican</td>\n",
              "      <td>9.00</td>\n",
              "    </tr>\n",
              "    <tr>\n",
              "      <th>23</th>\n",
              "      <td>124</td>\n",
              "      <td>Spaghetti</td>\n",
              "      <td>Italian</td>\n",
              "      <td>14.50</td>\n",
              "    </tr>\n",
              "    <tr>\n",
              "      <th>24</th>\n",
              "      <td>125</td>\n",
              "      <td>Spaghetti &amp; Meatballs</td>\n",
              "      <td>Italian</td>\n",
              "      <td>17.95</td>\n",
              "    </tr>\n",
              "    <tr>\n",
              "      <th>25</th>\n",
              "      <td>126</td>\n",
              "      <td>Fettuccine Alfredo</td>\n",
              "      <td>Italian</td>\n",
              "      <td>14.50</td>\n",
              "    </tr>\n",
              "    <tr>\n",
              "      <th>26</th>\n",
              "      <td>127</td>\n",
              "      <td>Meat Lasagna</td>\n",
              "      <td>Italian</td>\n",
              "      <td>17.95</td>\n",
              "    </tr>\n",
              "    <tr>\n",
              "      <th>27</th>\n",
              "      <td>128</td>\n",
              "      <td>Cheese Lasagna</td>\n",
              "      <td>Italian</td>\n",
              "      <td>15.50</td>\n",
              "    </tr>\n",
              "    <tr>\n",
              "      <th>28</th>\n",
              "      <td>129</td>\n",
              "      <td>Mushroom Ravioli</td>\n",
              "      <td>Italian</td>\n",
              "      <td>15.50</td>\n",
              "    </tr>\n",
              "    <tr>\n",
              "      <th>29</th>\n",
              "      <td>130</td>\n",
              "      <td>Shrimp Scampi</td>\n",
              "      <td>Italian</td>\n",
              "      <td>19.95</td>\n",
              "    </tr>\n",
              "    <tr>\n",
              "      <th>30</th>\n",
              "      <td>131</td>\n",
              "      <td>Chicken Parmesan</td>\n",
              "      <td>Italian</td>\n",
              "      <td>17.95</td>\n",
              "    </tr>\n",
              "    <tr>\n",
              "      <th>31</th>\n",
              "      <td>132</td>\n",
              "      <td>Eggplant Parmesan</td>\n",
              "      <td>Italian</td>\n",
              "      <td>16.95</td>\n",
              "    </tr>\n",
              "  </tbody>\n",
              "</table>\n",
              "</div>"
            ],
            "text/plain": [
              "    menu_item_id              item_name  category  price\n",
              "0            101              Hamburger  American  12.95\n",
              "1            102           Cheeseburger  American  13.95\n",
              "2            103                Hot Dog  American   9.00\n",
              "3            104          Veggie Burger  American  10.50\n",
              "4            105           Mac & Cheese  American   7.00\n",
              "5            106           French Fries  American   7.00\n",
              "6            107         Orange Chicken     Asian  16.50\n",
              "7            108          Tofu Pad Thai     Asian  14.50\n",
              "8            109       Korean Beef Bowl     Asian  17.95\n",
              "9            110             Pork Ramen     Asian  17.95\n",
              "10           111        California Roll     Asian  11.95\n",
              "11           112            Salmon Roll     Asian  14.95\n",
              "12           113                Edamame     Asian   5.00\n",
              "13           114            Potstickers     Asian   9.00\n",
              "14           115          Chicken Tacos   Mexican  11.95\n",
              "15           116            Steak Tacos   Mexican  13.95\n",
              "16           117        Chicken Burrito   Mexican  12.95\n",
              "17           118          Steak Burrito   Mexican  14.95\n",
              "18           119          Chicken Torta   Mexican  11.95\n",
              "19           120            Steak Torta   Mexican  13.95\n",
              "20           121     Cheese Quesadillas   Mexican  10.50\n",
              "21           122          Chips & Salsa   Mexican   7.00\n",
              "22           123      Chips & Guacamole   Mexican   9.00\n",
              "23           124              Spaghetti   Italian  14.50\n",
              "24           125  Spaghetti & Meatballs   Italian  17.95\n",
              "25           126     Fettuccine Alfredo   Italian  14.50\n",
              "26           127           Meat Lasagna   Italian  17.95\n",
              "27           128         Cheese Lasagna   Italian  15.50\n",
              "28           129       Mushroom Ravioli   Italian  15.50\n",
              "29           130          Shrimp Scampi   Italian  19.95\n",
              "30           131       Chicken Parmesan   Italian  17.95\n",
              "31           132      Eggplant Parmesan   Italian  16.95"
            ]
          },
          "metadata": {},
          "output_type": "display_data"
        }
      ],
      "source": [
        "query = \"SELECT * FROM menu_items;\"\n",
        "menu_items_df = pd.read_sql(query, engine)\n",
        "display(menu_items_df)"
      ]
    },
    {
      "cell_type": "markdown",
      "metadata": {
        "id": "V70T1qXiD1jh"
      },
      "source": [
        "**2. Total Number of Menu Items:**"
      ]
    },
    {
      "cell_type": "code",
      "execution_count": 6,
      "metadata": {
        "colab": {
          "base_uri": "https://localhost:8080/",
          "height": 89
        },
        "id": "Rvb584q3D4_l",
        "outputId": "07cda411-8258-4c36-c1d2-56866faa37f2"
      },
      "outputs": [
        {
          "data": {
            "text/html": [
              "<div>\n",
              "<style scoped>\n",
              "    .dataframe tbody tr th:only-of-type {\n",
              "        vertical-align: middle;\n",
              "    }\n",
              "\n",
              "    .dataframe tbody tr th {\n",
              "        vertical-align: top;\n",
              "    }\n",
              "\n",
              "    .dataframe thead th {\n",
              "        text-align: right;\n",
              "    }\n",
              "</style>\n",
              "<table border=\"1\" class=\"dataframe\">\n",
              "  <thead>\n",
              "    <tr style=\"text-align: right;\">\n",
              "      <th></th>\n",
              "      <th>total_items</th>\n",
              "    </tr>\n",
              "  </thead>\n",
              "  <tbody>\n",
              "    <tr>\n",
              "      <th>0</th>\n",
              "      <td>32</td>\n",
              "    </tr>\n",
              "  </tbody>\n",
              "</table>\n",
              "</div>"
            ],
            "text/plain": [
              "   total_items\n",
              "0           32"
            ]
          },
          "metadata": {},
          "output_type": "display_data"
        }
      ],
      "source": [
        "query = \"SELECT COUNT(*) AS total_items FROM menu_items;\"\n",
        "total_items_df = pd.read_sql(query, engine)\n",
        "display(total_items_df)"
      ]
    },
    {
      "cell_type": "markdown",
      "metadata": {
        "id": "55xzxX-rEwfl"
      },
      "source": [
        "**3. Most and Least Expensive Dishes:**\n",
        "\n"
      ]
    },
    {
      "cell_type": "code",
      "execution_count": 7,
      "metadata": {
        "colab": {
          "base_uri": "https://localhost:8080/",
          "height": 189
        },
        "id": "zUd_cnaDFJ-O",
        "outputId": "22f8fb3a-1850-4908-ab72-c842f47bb434"
      },
      "outputs": [
        {
          "name": "stdout",
          "output_type": "stream",
          "text": [
            "Least expensive dish:\n"
          ]
        },
        {
          "data": {
            "text/html": [
              "<div>\n",
              "<style scoped>\n",
              "    .dataframe tbody tr th:only-of-type {\n",
              "        vertical-align: middle;\n",
              "    }\n",
              "\n",
              "    .dataframe tbody tr th {\n",
              "        vertical-align: top;\n",
              "    }\n",
              "\n",
              "    .dataframe thead th {\n",
              "        text-align: right;\n",
              "    }\n",
              "</style>\n",
              "<table border=\"1\" class=\"dataframe\">\n",
              "  <thead>\n",
              "    <tr style=\"text-align: right;\">\n",
              "      <th></th>\n",
              "      <th>menu_item_id</th>\n",
              "      <th>item_name</th>\n",
              "      <th>category</th>\n",
              "      <th>price</th>\n",
              "    </tr>\n",
              "  </thead>\n",
              "  <tbody>\n",
              "    <tr>\n",
              "      <th>0</th>\n",
              "      <td>113</td>\n",
              "      <td>Edamame</td>\n",
              "      <td>Asian</td>\n",
              "      <td>5.0</td>\n",
              "    </tr>\n",
              "  </tbody>\n",
              "</table>\n",
              "</div>"
            ],
            "text/plain": [
              "   menu_item_id item_name category  price\n",
              "0           113   Edamame    Asian    5.0"
            ]
          },
          "metadata": {},
          "output_type": "display_data"
        },
        {
          "name": "stdout",
          "output_type": "stream",
          "text": [
            "Most expensive dish\n"
          ]
        },
        {
          "data": {
            "text/html": [
              "<div>\n",
              "<style scoped>\n",
              "    .dataframe tbody tr th:only-of-type {\n",
              "        vertical-align: middle;\n",
              "    }\n",
              "\n",
              "    .dataframe tbody tr th {\n",
              "        vertical-align: top;\n",
              "    }\n",
              "\n",
              "    .dataframe thead th {\n",
              "        text-align: right;\n",
              "    }\n",
              "</style>\n",
              "<table border=\"1\" class=\"dataframe\">\n",
              "  <thead>\n",
              "    <tr style=\"text-align: right;\">\n",
              "      <th></th>\n",
              "      <th>menu_item_id</th>\n",
              "      <th>item_name</th>\n",
              "      <th>category</th>\n",
              "      <th>price</th>\n",
              "    </tr>\n",
              "  </thead>\n",
              "  <tbody>\n",
              "    <tr>\n",
              "      <th>0</th>\n",
              "      <td>130</td>\n",
              "      <td>Shrimp Scampi</td>\n",
              "      <td>Italian</td>\n",
              "      <td>19.95</td>\n",
              "    </tr>\n",
              "  </tbody>\n",
              "</table>\n",
              "</div>"
            ],
            "text/plain": [
              "   menu_item_id      item_name category  price\n",
              "0           130  Shrimp Scampi  Italian  19.95"
            ]
          },
          "metadata": {},
          "output_type": "display_data"
        }
      ],
      "source": [
        "query = \"SELECT * FROM menu_items ORDER BY price LIMIT 1;\"\n",
        "cheapest_dish_df = pd.read_sql(query, engine)\n",
        "print('Least expensive dish:')\n",
        "display(cheapest_dish_df) # least expensive dish\n",
        "\n",
        "query = \"SELECT * FROM menu_items ORDER BY price DESC LIMIT 1;\"\n",
        "expensive_dish_df = pd.read_sql(query, engine)\n",
        "print('Most expensive dish')\n",
        "display(expensive_dish_df) # most expensive dish"
      ]
    },
    {
      "cell_type": "markdown",
      "metadata": {
        "id": "ZpkyEpB1FYdD"
      },
      "source": [
        "**4. Total Number of Italian Dishes:**"
      ]
    },
    {
      "cell_type": "code",
      "execution_count": 8,
      "metadata": {
        "colab": {
          "base_uri": "https://localhost:8080/",
          "height": 89
        },
        "id": "dEZ-7Z9MFSQZ",
        "outputId": "92cd1e9b-2c7d-4a13-b083-ff86448e2c59"
      },
      "outputs": [
        {
          "data": {
            "text/html": [
              "<div>\n",
              "<style scoped>\n",
              "    .dataframe tbody tr th:only-of-type {\n",
              "        vertical-align: middle;\n",
              "    }\n",
              "\n",
              "    .dataframe tbody tr th {\n",
              "        vertical-align: top;\n",
              "    }\n",
              "\n",
              "    .dataframe thead th {\n",
              "        text-align: right;\n",
              "    }\n",
              "</style>\n",
              "<table border=\"1\" class=\"dataframe\">\n",
              "  <thead>\n",
              "    <tr style=\"text-align: right;\">\n",
              "      <th></th>\n",
              "      <th>total_italian</th>\n",
              "    </tr>\n",
              "  </thead>\n",
              "  <tbody>\n",
              "    <tr>\n",
              "      <th>0</th>\n",
              "      <td>9</td>\n",
              "    </tr>\n",
              "  </tbody>\n",
              "</table>\n",
              "</div>"
            ],
            "text/plain": [
              "   total_italian\n",
              "0              9"
            ]
          },
          "metadata": {},
          "output_type": "display_data"
        }
      ],
      "source": [
        "query = \"SELECT COUNT(*) AS total_italian FROM menu_items WHERE category='Italian';\"\n",
        "total_italian_df = pd.read_sql(query, engine)\n",
        "display(total_italian_df)"
      ]
    },
    {
      "cell_type": "markdown",
      "metadata": {
        "id": "Wj-rOdAfFrBr"
      },
      "source": [
        "**5. Cheapest and Most Expensive Italian Dishes:**\n",
        "\n"
      ]
    },
    {
      "cell_type": "code",
      "execution_count": 9,
      "metadata": {
        "colab": {
          "base_uri": "https://localhost:8080/",
          "height": 189
        },
        "id": "LXb7dDoSFt0F",
        "outputId": "3d2d26a0-71b7-4107-d66d-889393f62b9d"
      },
      "outputs": [
        {
          "name": "stdout",
          "output_type": "stream",
          "text": [
            "Cheapest Italian Dish:\n"
          ]
        },
        {
          "data": {
            "text/html": [
              "<div>\n",
              "<style scoped>\n",
              "    .dataframe tbody tr th:only-of-type {\n",
              "        vertical-align: middle;\n",
              "    }\n",
              "\n",
              "    .dataframe tbody tr th {\n",
              "        vertical-align: top;\n",
              "    }\n",
              "\n",
              "    .dataframe thead th {\n",
              "        text-align: right;\n",
              "    }\n",
              "</style>\n",
              "<table border=\"1\" class=\"dataframe\">\n",
              "  <thead>\n",
              "    <tr style=\"text-align: right;\">\n",
              "      <th></th>\n",
              "      <th>menu_item_id</th>\n",
              "      <th>item_name</th>\n",
              "      <th>category</th>\n",
              "      <th>price</th>\n",
              "    </tr>\n",
              "  </thead>\n",
              "  <tbody>\n",
              "    <tr>\n",
              "      <th>0</th>\n",
              "      <td>124</td>\n",
              "      <td>Spaghetti</td>\n",
              "      <td>Italian</td>\n",
              "      <td>14.5</td>\n",
              "    </tr>\n",
              "  </tbody>\n",
              "</table>\n",
              "</div>"
            ],
            "text/plain": [
              "   menu_item_id  item_name category  price\n",
              "0           124  Spaghetti  Italian   14.5"
            ]
          },
          "metadata": {},
          "output_type": "display_data"
        },
        {
          "name": "stdout",
          "output_type": "stream",
          "text": [
            "Most Expensive Italian Dish:\n"
          ]
        },
        {
          "data": {
            "text/html": [
              "<div>\n",
              "<style scoped>\n",
              "    .dataframe tbody tr th:only-of-type {\n",
              "        vertical-align: middle;\n",
              "    }\n",
              "\n",
              "    .dataframe tbody tr th {\n",
              "        vertical-align: top;\n",
              "    }\n",
              "\n",
              "    .dataframe thead th {\n",
              "        text-align: right;\n",
              "    }\n",
              "</style>\n",
              "<table border=\"1\" class=\"dataframe\">\n",
              "  <thead>\n",
              "    <tr style=\"text-align: right;\">\n",
              "      <th></th>\n",
              "      <th>menu_item_id</th>\n",
              "      <th>item_name</th>\n",
              "      <th>category</th>\n",
              "      <th>price</th>\n",
              "    </tr>\n",
              "  </thead>\n",
              "  <tbody>\n",
              "    <tr>\n",
              "      <th>0</th>\n",
              "      <td>130</td>\n",
              "      <td>Shrimp Scampi</td>\n",
              "      <td>Italian</td>\n",
              "      <td>19.95</td>\n",
              "    </tr>\n",
              "  </tbody>\n",
              "</table>\n",
              "</div>"
            ],
            "text/plain": [
              "   menu_item_id      item_name category  price\n",
              "0           130  Shrimp Scampi  Italian  19.95"
            ]
          },
          "metadata": {},
          "output_type": "display_data"
        }
      ],
      "source": [
        "query = \"SELECT * FROM menu_items WHERE category='Italian' ORDER BY price LIMIT 1;\"\n",
        "cheapest_italian_df = pd.read_sql(query, engine)\n",
        "print('Cheapest Italian Dish:')\n",
        "display(cheapest_italian_df)\n",
        "\n",
        "query = \"SELECT * FROM menu_items WHERE category='Italian' ORDER BY price DESC LIMIT 1;\"\n",
        "expensive_italian_df = pd.read_sql(query, engine)\n",
        "print('Most Expensive Italian Dish:')\n",
        "display(expensive_italian_df)\n"
      ]
    },
    {
      "cell_type": "markdown",
      "metadata": {
        "id": "btBUlFN-GHm4"
      },
      "source": [
        "**6. Number of Dishes per Category:**\n"
      ]
    },
    {
      "cell_type": "code",
      "execution_count": 10,
      "metadata": {
        "colab": {
          "base_uri": "https://localhost:8080/",
          "height": 175
        },
        "id": "rfONvGjuGH2E",
        "outputId": "67aaa65d-b11d-4e5e-beff-78073a011e91"
      },
      "outputs": [
        {
          "data": {
            "text/html": [
              "<div>\n",
              "<style scoped>\n",
              "    .dataframe tbody tr th:only-of-type {\n",
              "        vertical-align: middle;\n",
              "    }\n",
              "\n",
              "    .dataframe tbody tr th {\n",
              "        vertical-align: top;\n",
              "    }\n",
              "\n",
              "    .dataframe thead th {\n",
              "        text-align: right;\n",
              "    }\n",
              "</style>\n",
              "<table border=\"1\" class=\"dataframe\">\n",
              "  <thead>\n",
              "    <tr style=\"text-align: right;\">\n",
              "      <th></th>\n",
              "      <th>category</th>\n",
              "      <th>total_dishes</th>\n",
              "    </tr>\n",
              "  </thead>\n",
              "  <tbody>\n",
              "    <tr>\n",
              "      <th>0</th>\n",
              "      <td>American</td>\n",
              "      <td>6</td>\n",
              "    </tr>\n",
              "    <tr>\n",
              "      <th>1</th>\n",
              "      <td>Asian</td>\n",
              "      <td>8</td>\n",
              "    </tr>\n",
              "    <tr>\n",
              "      <th>2</th>\n",
              "      <td>Italian</td>\n",
              "      <td>9</td>\n",
              "    </tr>\n",
              "    <tr>\n",
              "      <th>3</th>\n",
              "      <td>Mexican</td>\n",
              "      <td>9</td>\n",
              "    </tr>\n",
              "  </tbody>\n",
              "</table>\n",
              "</div>"
            ],
            "text/plain": [
              "   category  total_dishes\n",
              "0  American             6\n",
              "1     Asian             8\n",
              "2   Italian             9\n",
              "3   Mexican             9"
            ]
          },
          "metadata": {},
          "output_type": "display_data"
        }
      ],
      "source": [
        "query = \"SELECT category, COUNT(menu_item_id) AS total_dishes FROM menu_items GROUP BY category;\"\n",
        "dishes_per_category_df = pd.read_sql(query, engine)\n",
        "display(dishes_per_category_df)"
      ]
    },
    {
      "cell_type": "markdown",
      "metadata": {
        "id": "92aJWXlgGICs"
      },
      "source": [
        "**7. Average Price of Dishes per Category:**\n",
        "\n"
      ]
    },
    {
      "cell_type": "code",
      "execution_count": 11,
      "metadata": {
        "colab": {
          "base_uri": "https://localhost:8080/",
          "height": 175
        },
        "id": "APw6oibSGILk",
        "outputId": "6415a3af-01e2-4ab9-aaab-622fc30d08e4"
      },
      "outputs": [
        {
          "data": {
            "text/html": [
              "<div>\n",
              "<style scoped>\n",
              "    .dataframe tbody tr th:only-of-type {\n",
              "        vertical-align: middle;\n",
              "    }\n",
              "\n",
              "    .dataframe tbody tr th {\n",
              "        vertical-align: top;\n",
              "    }\n",
              "\n",
              "    .dataframe thead th {\n",
              "        text-align: right;\n",
              "    }\n",
              "</style>\n",
              "<table border=\"1\" class=\"dataframe\">\n",
              "  <thead>\n",
              "    <tr style=\"text-align: right;\">\n",
              "      <th></th>\n",
              "      <th>category</th>\n",
              "      <th>avg_price</th>\n",
              "    </tr>\n",
              "  </thead>\n",
              "  <tbody>\n",
              "    <tr>\n",
              "      <th>0</th>\n",
              "      <td>American</td>\n",
              "      <td>10.066667</td>\n",
              "    </tr>\n",
              "    <tr>\n",
              "      <th>1</th>\n",
              "      <td>Asian</td>\n",
              "      <td>13.475000</td>\n",
              "    </tr>\n",
              "    <tr>\n",
              "      <th>2</th>\n",
              "      <td>Italian</td>\n",
              "      <td>16.750000</td>\n",
              "    </tr>\n",
              "    <tr>\n",
              "      <th>3</th>\n",
              "      <td>Mexican</td>\n",
              "      <td>11.800000</td>\n",
              "    </tr>\n",
              "  </tbody>\n",
              "</table>\n",
              "</div>"
            ],
            "text/plain": [
              "   category  avg_price\n",
              "0  American  10.066667\n",
              "1     Asian  13.475000\n",
              "2   Italian  16.750000\n",
              "3   Mexican  11.800000"
            ]
          },
          "metadata": {},
          "output_type": "display_data"
        }
      ],
      "source": [
        "query = \"SELECT category, AVG(price) AS avg_price FROM menu_items GROUP BY category;\"\n",
        "avg_price_per_category_df = pd.read_sql(query, engine)\n",
        "display(avg_price_per_category_df)"
      ]
    },
    {
      "cell_type": "markdown",
      "metadata": {
        "id": "Q7v7gauZGu1V"
      },
      "source": [
        "**Let's visualize some of these results using python libraries.**"
      ]
    },
    {
      "cell_type": "code",
      "execution_count": 12,
      "metadata": {
        "colab": {
          "base_uri": "https://localhost:8080/",
          "height": 507
        },
        "id": "wXPbS52QG4oH",
        "outputId": "157ca595-f1c7-4df3-c61d-d0e4045b166d"
      },
      "outputs": [
        {
          "data": {
            "image/png": "[encoded data removed]",
            "text/plain": [
              "<Figure size 600x500 with 1 Axes>"
            ]
          },
          "metadata": {},
          "output_type": "display_data"
        }
      ],
      "source": [
        "import warnings\n",
        "warnings.simplefilter(action='ignore', category=FutureWarning) #  Suppressing Warnings\n",
        "plt.figure(figsize=(6, 5))\n",
        "ax = sns.barplot(x='category', y='total_dishes', data=dishes_per_category_df, palette='Set1')\n",
        "for bar in ax.patches:\n",
        "    bar.set_width(0.6)\n",
        "plt.title('Number of Dishes per Category')\n",
        "plt.xlabel('Category')\n",
        "plt.ylabel('Total Dishes')\n",
        "plt.xticks()\n",
        "plt.tight_layout()\n",
        "plt.show()"
      ]
    },
    {
      "cell_type": "code",
      "execution_count": 13,
      "metadata": {
        "colab": {
          "base_uri": "https://localhost:8080/",
          "height": 507
        },
        "id": "K54X46rZJ-Nu",
        "outputId": "bcb3c0d1-08f3-4af8-ddab-86c240c0d13e"
      },
      "outputs": [
        {
          "data": {
            "image/png": "[encoded data removed]",
            "text/plain": [
              "<Figure size 600x500 with 1 Axes>"
            ]
          },
          "metadata": {},
          "output_type": "display_data"
        }
      ],
      "source": [
        "warnings.simplefilter(action='ignore', category=FutureWarning) #  Suppressing Warnings\n",
        "plt.figure(figsize=(6, 5))\n",
        "ax = sns.barplot(x='category', y='avg_price', data=avg_price_per_category_df, palette='Set1')\n",
        "for bar in ax.patches:\n",
        "    bar.set_width(0.6)\n",
        "plt.title('Average Price per Category')\n",
        "plt.xlabel('Category')\n",
        "plt.ylabel('Average Price')\n",
        "plt.xticks()\n",
        "plt.tight_layout()\n",
        "plt.show()"
      ]
    },
    {
      "cell_type": "markdown",
      "metadata": {
        "id": "Gyn4NKwVMPjj"
      },
      "source": [
        "## **Objective 2**  "
      ]
    },
    {
      "cell_type": "markdown",
      "metadata": {
        "id": "kMDjoxS2MaTU"
      },
      "source": [
        "**1. View the order_details table:**"
      ]
    },
    {
      "cell_type": "code",
      "execution_count": 14,
      "metadata": {
        "colab": {
          "base_uri": "https://localhost:8080/",
          "height": 206
        },
        "id": "aZtdzwahMgjI",
        "outputId": "07d49fd0-b252-48c5-be70-5fd6b8e132c4"
      },
      "outputs": [
        {
          "data": {
            "text/html": [
              "<div>\n",
              "<style scoped>\n",
              "    .dataframe tbody tr th:only-of-type {\n",
              "        vertical-align: middle;\n",
              "    }\n",
              "\n",
              "    .dataframe tbody tr th {\n",
              "        vertical-align: top;\n",
              "    }\n",
              "\n",
              "    .dataframe thead th {\n",
              "        text-align: right;\n",
              "    }\n",
              "</style>\n",
              "<table border=\"1\" class=\"dataframe\">\n",
              "  <thead>\n",
              "    <tr style=\"text-align: right;\">\n",
              "      <th></th>\n",
              "      <th>order_details_id</th>\n",
              "      <th>order_id</th>\n",
              "      <th>order_date</th>\n",
              "      <th>order_time</th>\n",
              "      <th>item_id</th>\n",
              "    </tr>\n",
              "  </thead>\n",
              "  <tbody>\n",
              "    <tr>\n",
              "      <th>0</th>\n",
              "      <td>1</td>\n",
              "      <td>1</td>\n",
              "      <td>2023-01-01</td>\n",
              "      <td>11:38:36</td>\n",
              "      <td>109.0</td>\n",
              "    </tr>\n",
              "    <tr>\n",
              "      <th>1</th>\n",
              "      <td>2</td>\n",
              "      <td>2</td>\n",
              "      <td>2023-01-01</td>\n",
              "      <td>11:57:40</td>\n",
              "      <td>108.0</td>\n",
              "    </tr>\n",
              "    <tr>\n",
              "      <th>2</th>\n",
              "      <td>3</td>\n",
              "      <td>2</td>\n",
              "      <td>2023-01-01</td>\n",
              "      <td>11:57:40</td>\n",
              "      <td>124.0</td>\n",
              "    </tr>\n",
              "    <tr>\n",
              "      <th>3</th>\n",
              "      <td>4</td>\n",
              "      <td>2</td>\n",
              "      <td>2023-01-01</td>\n",
              "      <td>11:57:40</td>\n",
              "      <td>117.0</td>\n",
              "    </tr>\n",
              "    <tr>\n",
              "      <th>4</th>\n",
              "      <td>5</td>\n",
              "      <td>2</td>\n",
              "      <td>2023-01-01</td>\n",
              "      <td>11:57:40</td>\n",
              "      <td>129.0</td>\n",
              "    </tr>\n",
              "  </tbody>\n",
              "</table>\n",
              "</div>"
            ],
            "text/plain": [
              "   order_details_id  order_id  order_date order_time  item_id\n",
              "0                 1         1  2023-01-01   11:38:36    109.0\n",
              "1                 2         2  2023-01-01   11:57:40    108.0\n",
              "2                 3         2  2023-01-01   11:57:40    124.0\n",
              "3                 4         2  2023-01-01   11:57:40    117.0\n",
              "4                 5         2  2023-01-01   11:57:40    129.0"
            ]
          },
          "execution_count": 14,
          "metadata": {},
          "output_type": "execute_result"
        }
      ],
      "source": [
        "query_1 = \"SELECT * FROM order_details;\"\n",
        "order_details_df = pd.read_sql_query(query_1, engine)\n",
        "order_details_df.head()"
      ]
    },
    {
      "cell_type": "markdown",
      "metadata": {
        "id": "dSARmbXONBzu"
      },
      "source": [
        "**2. Date Range of Orders:**"
      ]
    },
    {
      "cell_type": "code",
      "execution_count": 15,
      "metadata": {
        "colab": {
          "base_uri": "https://localhost:8080/",
          "height": 89
        },
        "id": "D8AkPEEdMiTl",
        "outputId": "0da987a8-597a-46a5-e427-5af424e104eb"
      },
      "outputs": [
        {
          "data": {
            "text/html": [
              "<div>\n",
              "<style scoped>\n",
              "    .dataframe tbody tr th:only-of-type {\n",
              "        vertical-align: middle;\n",
              "    }\n",
              "\n",
              "    .dataframe tbody tr th {\n",
              "        vertical-align: top;\n",
              "    }\n",
              "\n",
              "    .dataframe thead th {\n",
              "        text-align: right;\n",
              "    }\n",
              "</style>\n",
              "<table border=\"1\" class=\"dataframe\">\n",
              "  <thead>\n",
              "    <tr style=\"text-align: right;\">\n",
              "      <th></th>\n",
              "      <th>first_date</th>\n",
              "      <th>last_date</th>\n",
              "    </tr>\n",
              "  </thead>\n",
              "  <tbody>\n",
              "    <tr>\n",
              "      <th>0</th>\n",
              "      <td>2023-01-01</td>\n",
              "      <td>2023-03-31</td>\n",
              "    </tr>\n",
              "  </tbody>\n",
              "</table>\n",
              "</div>"
            ],
            "text/plain": [
              "   first_date   last_date\n",
              "0  2023-01-01  2023-03-31"
            ]
          },
          "execution_count": 15,
          "metadata": {},
          "output_type": "execute_result"
        }
      ],
      "source": [
        "query_2 = \"SELECT MIN(order_date) AS first_date, MAX(order_date) AS last_date FROM order_details;\"\n",
        "date_range_df = pd.read_sql_query(query_2, engine)\n",
        "date_range_df"
      ]
    },
    {
      "cell_type": "markdown",
      "metadata": {
        "id": "JO6zu-RNNejv"
      },
      "source": [
        "**3. Total Number of Orders:**"
      ]
    },
    {
      "cell_type": "code",
      "execution_count": 16,
      "metadata": {
        "colab": {
          "base_uri": "https://localhost:8080/",
          "height": 89
        },
        "id": "hA5AU22tNkEG",
        "outputId": "a882d132-058c-4d78-bcc8-4b68c9736378"
      },
      "outputs": [
        {
          "data": {
            "text/html": [
              "<div>\n",
              "<style scoped>\n",
              "    .dataframe tbody tr th:only-of-type {\n",
              "        vertical-align: middle;\n",
              "    }\n",
              "\n",
              "    .dataframe tbody tr th {\n",
              "        vertical-align: top;\n",
              "    }\n",
              "\n",
              "    .dataframe thead th {\n",
              "        text-align: right;\n",
              "    }\n",
              "</style>\n",
              "<table border=\"1\" class=\"dataframe\">\n",
              "  <thead>\n",
              "    <tr style=\"text-align: right;\">\n",
              "      <th></th>\n",
              "      <th>total_orders</th>\n",
              "    </tr>\n",
              "  </thead>\n",
              "  <tbody>\n",
              "    <tr>\n",
              "      <th>0</th>\n",
              "      <td>5370</td>\n",
              "    </tr>\n",
              "  </tbody>\n",
              "</table>\n",
              "</div>"
            ],
            "text/plain": [
              "   total_orders\n",
              "0          5370"
            ]
          },
          "execution_count": 16,
          "metadata": {},
          "output_type": "execute_result"
        }
      ],
      "source": [
        "query_3 = \"SELECT COUNT(DISTINCT(order_id)) AS total_orders FROM order_details;\"\n",
        "total_orders_df = pd.read_sql_query(query_3, engine)\n",
        "total_orders_df"
      ]
    },
    {
      "cell_type": "markdown",
      "metadata": {
        "id": "kQenhA_oNuPg"
      },
      "source": [
        "**4. Total Number of Dishes Ordered:**"
      ]
    },
    {
      "cell_type": "code",
      "execution_count": 17,
      "metadata": {
        "colab": {
          "base_uri": "https://localhost:8080/",
          "height": 89
        },
        "id": "3qin_B6mNSgJ",
        "outputId": "1e1d2a47-21f6-44f6-ed16-9eec70e8a252"
      },
      "outputs": [
        {
          "data": {
            "text/html": [
              "<div>\n",
              "<style scoped>\n",
              "    .dataframe tbody tr th:only-of-type {\n",
              "        vertical-align: middle;\n",
              "    }\n",
              "\n",
              "    .dataframe tbody tr th {\n",
              "        vertical-align: top;\n",
              "    }\n",
              "\n",
              "    .dataframe thead th {\n",
              "        text-align: right;\n",
              "    }\n",
              "</style>\n",
              "<table border=\"1\" class=\"dataframe\">\n",
              "  <thead>\n",
              "    <tr style=\"text-align: right;\">\n",
              "      <th></th>\n",
              "      <th>total_dishes</th>\n",
              "    </tr>\n",
              "  </thead>\n",
              "  <tbody>\n",
              "    <tr>\n",
              "      <th>0</th>\n",
              "      <td>12234</td>\n",
              "    </tr>\n",
              "  </tbody>\n",
              "</table>\n",
              "</div>"
            ],
            "text/plain": [
              "   total_dishes\n",
              "0         12234"
            ]
          },
          "execution_count": 17,
          "metadata": {},
          "output_type": "execute_result"
        }
      ],
      "source": [
        "query_4 = \"SELECT COUNT(*) AS total_dishes FROM order_details;\"\n",
        "total_dishes_df = pd.read_sql_query(query_4, engine)\n",
        "total_dishes_df"
      ]
    },
    {
      "cell_type": "markdown",
      "metadata": {
        "id": "TNR6OW4UN03J"
      },
      "source": [
        "**5. Order ID with the Most Number of Dishes:**"
      ]
    },
    {
      "cell_type": "code",
      "execution_count": 18,
      "metadata": {
        "colab": {
          "base_uri": "https://localhost:8080/",
          "height": 89
        },
        "id": "JlnOx97ZNSjS",
        "outputId": "61108bf2-6a36-4379-f4b0-7a84dc35cb8b"
      },
      "outputs": [
        {
          "data": {
            "text/html": [
              "<div>\n",
              "<style scoped>\n",
              "    .dataframe tbody tr th:only-of-type {\n",
              "        vertical-align: middle;\n",
              "    }\n",
              "\n",
              "    .dataframe tbody tr th {\n",
              "        vertical-align: top;\n",
              "    }\n",
              "\n",
              "    .dataframe thead th {\n",
              "        text-align: right;\n",
              "    }\n",
              "</style>\n",
              "<table border=\"1\" class=\"dataframe\">\n",
              "  <thead>\n",
              "    <tr style=\"text-align: right;\">\n",
              "      <th></th>\n",
              "      <th>order_id</th>\n",
              "      <th>total_items</th>\n",
              "    </tr>\n",
              "  </thead>\n",
              "  <tbody>\n",
              "    <tr>\n",
              "      <th>0</th>\n",
              "      <td>4305</td>\n",
              "      <td>14</td>\n",
              "    </tr>\n",
              "  </tbody>\n",
              "</table>\n",
              "</div>"
            ],
            "text/plain": [
              "   order_id  total_items\n",
              "0      4305           14"
            ]
          },
          "execution_count": 18,
          "metadata": {},
          "output_type": "execute_result"
        }
      ],
      "source": [
        "query_5 = \"\"\"\n",
        "SELECT order_id, COUNT(item_id) AS total_items\n",
        "FROM order_details\n",
        "GROUP BY order_id\n",
        "ORDER BY COUNT(item_id) DESC\n",
        "LIMIT 1;\n",
        "\"\"\"\n",
        "most_dishes_order_df = pd.read_sql_query(query_5, engine)\n",
        "most_dishes_order_df"
      ]
    },
    {
      "cell_type": "markdown",
      "metadata": {
        "id": "bw5jJfkLOHGw"
      },
      "source": [
        "**6. Order ID(s) with 13 or More Dishes:**\n",
        "\n"
      ]
    },
    {
      "cell_type": "code",
      "execution_count": 19,
      "metadata": {
        "colab": {
          "base_uri": "https://localhost:8080/",
          "height": 676
        },
        "id": "fe-Mu9_bOKx2",
        "outputId": "aa0b38c7-f841-43e1-a380-d5c0863bfcea"
      },
      "outputs": [
        {
          "data": {
            "text/html": [
              "<div>\n",
              "<style scoped>\n",
              "    .dataframe tbody tr th:only-of-type {\n",
              "        vertical-align: middle;\n",
              "    }\n",
              "\n",
              "    .dataframe tbody tr th {\n",
              "        vertical-align: top;\n",
              "    }\n",
              "\n",
              "    .dataframe thead th {\n",
              "        text-align: right;\n",
              "    }\n",
              "</style>\n",
              "<table border=\"1\" class=\"dataframe\">\n",
              "  <thead>\n",
              "    <tr style=\"text-align: right;\">\n",
              "      <th></th>\n",
              "      <th>order_id</th>\n",
              "      <th>total_items</th>\n",
              "    </tr>\n",
              "  </thead>\n",
              "  <tbody>\n",
              "    <tr>\n",
              "      <th>0</th>\n",
              "      <td>330</td>\n",
              "      <td>14</td>\n",
              "    </tr>\n",
              "    <tr>\n",
              "      <th>1</th>\n",
              "      <td>440</td>\n",
              "      <td>14</td>\n",
              "    </tr>\n",
              "    <tr>\n",
              "      <th>2</th>\n",
              "      <td>443</td>\n",
              "      <td>14</td>\n",
              "    </tr>\n",
              "    <tr>\n",
              "      <th>3</th>\n",
              "      <td>1274</td>\n",
              "      <td>13</td>\n",
              "    </tr>\n",
              "    <tr>\n",
              "      <th>4</th>\n",
              "      <td>1569</td>\n",
              "      <td>13</td>\n",
              "    </tr>\n",
              "    <tr>\n",
              "      <th>5</th>\n",
              "      <td>1685</td>\n",
              "      <td>13</td>\n",
              "    </tr>\n",
              "    <tr>\n",
              "      <th>6</th>\n",
              "      <td>1734</td>\n",
              "      <td>13</td>\n",
              "    </tr>\n",
              "    <tr>\n",
              "      <th>7</th>\n",
              "      <td>1957</td>\n",
              "      <td>14</td>\n",
              "    </tr>\n",
              "    <tr>\n",
              "      <th>8</th>\n",
              "      <td>2075</td>\n",
              "      <td>13</td>\n",
              "    </tr>\n",
              "    <tr>\n",
              "      <th>9</th>\n",
              "      <td>2126</td>\n",
              "      <td>13</td>\n",
              "    </tr>\n",
              "    <tr>\n",
              "      <th>10</th>\n",
              "      <td>2188</td>\n",
              "      <td>13</td>\n",
              "    </tr>\n",
              "    <tr>\n",
              "      <th>11</th>\n",
              "      <td>2675</td>\n",
              "      <td>14</td>\n",
              "    </tr>\n",
              "    <tr>\n",
              "      <th>12</th>\n",
              "      <td>2725</td>\n",
              "      <td>13</td>\n",
              "    </tr>\n",
              "    <tr>\n",
              "      <th>13</th>\n",
              "      <td>3473</td>\n",
              "      <td>14</td>\n",
              "    </tr>\n",
              "    <tr>\n",
              "      <th>14</th>\n",
              "      <td>3583</td>\n",
              "      <td>13</td>\n",
              "    </tr>\n",
              "    <tr>\n",
              "      <th>15</th>\n",
              "      <td>4305</td>\n",
              "      <td>14</td>\n",
              "    </tr>\n",
              "    <tr>\n",
              "      <th>16</th>\n",
              "      <td>4482</td>\n",
              "      <td>13</td>\n",
              "    </tr>\n",
              "    <tr>\n",
              "      <th>17</th>\n",
              "      <td>4836</td>\n",
              "      <td>13</td>\n",
              "    </tr>\n",
              "    <tr>\n",
              "      <th>18</th>\n",
              "      <td>5066</td>\n",
              "      <td>13</td>\n",
              "    </tr>\n",
              "    <tr>\n",
              "      <th>19</th>\n",
              "      <td>5200</td>\n",
              "      <td>13</td>\n",
              "    </tr>\n",
              "  </tbody>\n",
              "</table>\n",
              "</div>"
            ],
            "text/plain": [
              "    order_id  total_items\n",
              "0        330           14\n",
              "1        440           14\n",
              "2        443           14\n",
              "3       1274           13\n",
              "4       1569           13\n",
              "5       1685           13\n",
              "6       1734           13\n",
              "7       1957           14\n",
              "8       2075           13\n",
              "9       2126           13\n",
              "10      2188           13\n",
              "11      2675           14\n",
              "12      2725           13\n",
              "13      3473           14\n",
              "14      3583           13\n",
              "15      4305           14\n",
              "16      4482           13\n",
              "17      4836           13\n",
              "18      5066           13\n",
              "19      5200           13"
            ]
          },
          "execution_count": 19,
          "metadata": {},
          "output_type": "execute_result"
        }
      ],
      "source": [
        "query_6 = \"\"\"\n",
        "SELECT order_id, COUNT(item_id) AS total_items\n",
        "FROM order_details\n",
        "GROUP BY order_id\n",
        "HAVING total_items >= 13;\n",
        "\"\"\"\n",
        "large_orders_df = pd.read_sql_query(query_6, engine)\n",
        "large_orders_df"
      ]
    },
    {
      "cell_type": "markdown",
      "metadata": {
        "id": "mp7IfAVBOdR9"
      },
      "source": [
        "**Let's visualize some of these results using python libraries.**"
      ]
    },
    {
      "cell_type": "markdown",
      "metadata": {
        "id": "MTKhI9oKQxa8"
      },
      "source": [
        "\n",
        "\n",
        "*   Plot the trend of orders from the first day to the current date.\n",
        "*   Display the approx. number of orders placed each day.\n",
        "\n",
        "\n"
      ]
    },
    {
      "cell_type": "code",
      "execution_count": 20,
      "metadata": {
        "colab": {
          "base_uri": "https://localhost:8080/",
          "height": 560
        },
        "id": "smz2Z1_3OfKJ",
        "outputId": "5e64566a-74ed-47c7-9132-84717f5607fb"
      },
      "outputs": [
        {
          "data": {
            "application/vnd.plotly.v1+json": {
              "config": {
                "plotlyServerURL": "https://plot.ly"
              },
              "data": [
                {
                  "hovertemplate": "Date=%{x}<br>Number of Orders=%{y}<extra></extra>",
                  "legendgroup": "",
                  "line": {
                    "color": "#636efa",
                    "dash": "solid"
                  },
                  "marker": {
                    "symbol": "circle"
                  },
                  "mode": "lines+markers",
                  "name": "",
                  "orientation": "v",
                  "showlegend": false,
                  "type": "scatter",
                  "x": [
                    "2023-01-01",
                    "2023-01-02",
                    "2023-01-03",
                    "2023-01-04",
                    "2023-01-05",
                    "2023-01-06",
                    "2023-01-07",
                    "2023-01-08",
                    "2023-01-09",
                    "2023-01-10",
                    "2023-01-11",
                    "2023-01-12",
                    "2023-01-13",
                    "2023-01-14",
                    "2023-01-15",
                    "2023-01-16",
                    "2023-01-17",
                    "2023-01-18",
                    "2023-01-19",
                    "2023-01-20",
                    "2023-01-21",
                    "2023-01-22",
                    "2023-01-23",
                    "2023-01-24",
                    "2023-01-25",
                    "2023-01-26",
                    "2023-01-27",
                    "2023-01-28",
                    "2023-01-29",
                    "2023-01-30",
                    "2023-01-31",
                    "2023-02-01",
                    "2023-02-02",
                    "2023-02-03",
                    "2023-02-04",
                    "2023-02-05",
                    "2023-02-06",
                    "2023-02-07",
                    "2023-02-08",
                    "2023-02-09",
                    "2023-02-10",
                    "2023-02-11",
                    "2023-02-12",
                    "2023-02-13",
                    "2023-02-14",
                    "2023-02-15",
                    "2023-02-16",
                    "2023-02-17",
                    "2023-02-18",
                    "2023-02-19",
                    "2023-02-20",
                    "2023-02-21",
                    "2023-02-22",
                    "2023-02-23",
                    "2023-02-24",
                    "2023-02-25",
                    "2023-02-26",
                    "2023-02-27",
                    "2023-02-28",
                    "2023-03-01",
                    "2023-03-02",
                    "2023-03-03",
                    "2023-03-04",
                    "2023-03-05",
                    "2023-03-06",
                    "2023-03-07",
                    "2023-03-08",
                    "2023-03-09",
                    "2023-03-10",
                    "2023-03-11",
                    "2023-03-12",
                    "2023-03-13",
                    "2023-03-14",
                    "2023-03-15",
                    "2023-03-16",
                    "2023-03-17",
                    "2023-03-18",
                    "2023-03-19",
                    "2023-03-20",
                    "2023-03-21",
                    "2023-03-22",
                    "2023-03-23",
                    "2023-03-24",
                    "2023-03-25",
                    "2023-03-26",
                    "2023-03-27",
                    "2023-03-28",
                    "2023-03-29",
                    "2023-03-30",
                    "2023-03-31"
                  ],
                  "xaxis": "x",
                  "y": [
                    69,
                    67,
                    66,
                    52,
                    54,
                    64,
                    58,
                    72,
                    62,
                    65,
                    52,
                    55,
                    48,
                    62,
                    62,
                    67,
                    55,
                    51,
                    56,
                    64,
                    51,
                    68,
                    69,
                    63,
                    44,
                    55,
                    66,
                    51,
                    58,
                    65,
                    54,
                    87,
                    63,
                    62,
                    57,
                    60,
                    66,
                    61,
                    53,
                    54,
                    59,
                    69,
                    58,
                    71,
                    57,
                    55,
                    49,
                    61,
                    61,
                    56,
                    73,
                    56,
                    37,
                    54,
                    58,
                    63,
                    55,
                    71,
                    59,
                    49,
                    58,
                    53,
                    59,
                    64,
                    66,
                    58,
                    62,
                    56,
                    59,
                    62,
                    51,
                    71,
                    56,
                    49,
                    66,
                    71,
                    62,
                    58,
                    66,
                    56,
                    37,
                    61,
                    60,
                    56,
                    65,
                    71,
                    60,
                    54,
                    62,
                    62
                  ],
                  "yaxis": "y"
                }
              ],
              "layout": {
                "legend": {
                  "tracegroupgap": 0
                },
                "template": {
                  "data": {
                    "bar": [
                      {
                        "error_x": {
                          "color": "#2a3f5f"
                        },
                        "error_y": {
                          "color": "#2a3f5f"
                        },
                        "marker": {
                          "line": {
                            "color": "#E5ECF6",
                            "width": 0.5
                          },
                          "pattern": {
                            "fillmode": "overlay",
                            "size": 10,
                            "solidity": 0.2
                          }
                        },
                        "type": "bar"
                      }
                    ],
                    "barpolar": [
                      {
                        "marker": {
                          "line": {
                            "color": "#E5ECF6",
                            "width": 0.5
                          },
                          "pattern": {
                            "fillmode": "overlay",
                            "size": 10,
                            "solidity": 0.2
                          }
                        },
                        "type": "barpolar"
                      }
                    ],
                    "carpet": [
                      {
                        "aaxis": {
                          "endlinecolor": "#2a3f5f",
                          "gridcolor": "white",
                          "linecolor": "white",
                          "minorgridcolor": "white",
                          "startlinecolor": "#2a3f5f"
                        },
                        "baxis": {
                          "endlinecolor": "#2a3f5f",
                          "gridcolor": "white",
                          "linecolor": "white",
                          "minorgridcolor": "white",
                          "startlinecolor": "#2a3f5f"
                        },
                        "type": "carpet"
                      }
                    ],
                    "choropleth": [
                      {
                        "colorbar": {
                          "outlinewidth": 0,
                          "ticks": ""
                        },
                        "type": "choropleth"
                      }
                    ],
                    "contour": [
                      {
                        "colorbar": {
                          "outlinewidth": 0,
                          "ticks": ""
                        },
                        "colorscale": [
                          [
                            0,
                            "#0d0887"
                          ],
                          [
                            0.1111111111111111,
                            "#46039f"
                          ],
                          [
                            0.2222222222222222,
                            "#7201a8"
                          ],
                          [
                            0.3333333333333333,
                            "#9c179e"
                          ],
                          [
                            0.4444444444444444,
                            "#bd3786"
                          ],
                          [
                            0.5555555555555556,
                            "#d8576b"
                          ],
                          [
                            0.6666666666666666,
                            "#ed7953"
                          ],
                          [
                            0.7777777777777778,
                            "#fb9f3a"
                          ],
                          [
                            0.8888888888888888,
                            "#fdca26"
                          ],
                          [
                            1,
                            "#f0f921"
                          ]
                        ],
                        "type": "contour"
                      }
                    ],
                    "contourcarpet": [
                      {
                        "colorbar": {
                          "outlinewidth": 0,
                          "ticks": ""
                        },
                        "type": "contourcarpet"
                      }
                    ],
                    "heatmap": [
                      {
                        "colorbar": {
                          "outlinewidth": 0,
                          "ticks": ""
                        },
                        "colorscale": [
                          [
                            0,
                            "#0d0887"
                          ],
                          [
                            0.1111111111111111,
                            "#46039f"
                          ],
                          [
                            0.2222222222222222,
                            "#7201a8"
                          ],
                          [
                            0.3333333333333333,
                            "#9c179e"
                          ],
                          [
                            0.4444444444444444,
                            "#bd3786"
                          ],
                          [
                            0.5555555555555556,
                            "#d8576b"
                          ],
                          [
                            0.6666666666666666,
                            "#ed7953"
                          ],
                          [
                            0.7777777777777778,
                            "#fb9f3a"
                          ],
                          [
                            0.8888888888888888,
                            "#fdca26"
                          ],
                          [
                            1,
                            "#f0f921"
                          ]
                        ],
                        "type": "heatmap"
                      }
                    ],
                    "heatmapgl": [
                      {
                        "colorbar": {
                          "outlinewidth": 0,
                          "ticks": ""
                        },
                        "colorscale": [
                          [
                            0,
                            "#0d0887"
                          ],
                          [
                            0.1111111111111111,
                            "#46039f"
                          ],
                          [
                            0.2222222222222222,
                            "#7201a8"
                          ],
                          [
                            0.3333333333333333,
                            "#9c179e"
                          ],
                          [
                            0.4444444444444444,
                            "#bd3786"
                          ],
                          [
                            0.5555555555555556,
                            "#d8576b"
                          ],
                          [
                            0.6666666666666666,
                            "#ed7953"
                          ],
                          [
                            0.7777777777777778,
                            "#fb9f3a"
                          ],
                          [
                            0.8888888888888888,
                            "#fdca26"
                          ],
                          [
                            1,
                            "#f0f921"
                          ]
                        ],
                        "type": "heatmapgl"
                      }
                    ],
                    "histogram": [
                      {
                        "marker": {
                          "pattern": {
                            "fillmode": "overlay",
                            "size": 10,
                            "solidity": 0.2
                          }
                        },
                        "type": "histogram"
                      }
                    ],
                    "histogram2d": [
                      {
                        "colorbar": {
                          "outlinewidth": 0,
                          "ticks": ""
                        },
                        "colorscale": [
                          [
                            0,
                            "#0d0887"
                          ],
                          [
                            0.1111111111111111,
                            "#46039f"
                          ],
                          [
                            0.2222222222222222,
                            "#7201a8"
                          ],
                          [
                            0.3333333333333333,
                            "#9c179e"
                          ],
                          [
                            0.4444444444444444,
                            "#bd3786"
                          ],
                          [
                            0.5555555555555556,
                            "#d8576b"
                          ],
                          [
                            0.6666666666666666,
                            "#ed7953"
                          ],
                          [
                            0.7777777777777778,
                            "#fb9f3a"
                          ],
                          [
                            0.8888888888888888,
                            "#fdca26"
                          ],
                          [
                            1,
                            "#f0f921"
                          ]
                        ],
                        "type": "histogram2d"
                      }
                    ],
                    "histogram2dcontour": [
                      {
                        "colorbar": {
                          "outlinewidth": 0,
                          "ticks": ""
                        },
                        "colorscale": [
                          [
                            0,
                            "#0d0887"
                          ],
                          [
                            0.1111111111111111,
                            "#46039f"
                          ],
                          [
                            0.2222222222222222,
                            "#7201a8"
                          ],
                          [
                            0.3333333333333333,
                            "#9c179e"
                          ],
                          [
                            0.4444444444444444,
                            "#bd3786"
                          ],
                          [
                            0.5555555555555556,
                            "#d8576b"
                          ],
                          [
                            0.6666666666666666,
                            "#ed7953"
                          ],
                          [
                            0.7777777777777778,
                            "#fb9f3a"
                          ],
                          [
                            0.8888888888888888,
                            "#fdca26"
                          ],
                          [
                            1,
                            "#f0f921"
                          ]
                        ],
                        "type": "histogram2dcontour"
                      }
                    ],
                    "mesh3d": [
                      {
                        "colorbar": {
                          "outlinewidth": 0,
                          "ticks": ""
                        },
                        "type": "mesh3d"
                      }
                    ],
                    "parcoords": [
                      {
                        "line": {
                          "colorbar": {
                            "outlinewidth": 0,
                            "ticks": ""
                          }
                        },
                        "type": "parcoords"
                      }
                    ],
                    "pie": [
                      {
                        "automargin": true,
                        "type": "pie"
                      }
                    ],
                    "scatter": [
                      {
                        "fillpattern": {
                          "fillmode": "overlay",
                          "size": 10,
                          "solidity": 0.2
                        },
                        "type": "scatter"
                      }
                    ],
                    "scatter3d": [
                      {
                        "line": {
                          "colorbar": {
                            "outlinewidth": 0,
                            "ticks": ""
                          }
                        },
                        "marker": {
                          "colorbar": {
                            "outlinewidth": 0,
                            "ticks": ""
                          }
                        },
                        "type": "scatter3d"
                      }
                    ],
                    "scattercarpet": [
                      {
                        "marker": {
                          "colorbar": {
                            "outlinewidth": 0,
                            "ticks": ""
                          }
                        },
                        "type": "scattercarpet"
                      }
                    ],
                    "scattergeo": [
                      {
                        "marker": {
                          "colorbar": {
                            "outlinewidth": 0,
                            "ticks": ""
                          }
                        },
                        "type": "scattergeo"
                      }
                    ],
                    "scattergl": [
                      {
                        "marker": {
                          "colorbar": {
                            "outlinewidth": 0,
                            "ticks": ""
                          }
                        },
                        "type": "scattergl"
                      }
                    ],
                    "scattermapbox": [
                      {
                        "marker": {
                          "colorbar": {
                            "outlinewidth": 0,
                            "ticks": ""
                          }
                        },
                        "type": "scattermapbox"
                      }
                    ],
                    "scatterpolar": [
                      {
                        "marker": {
                          "colorbar": {
                            "outlinewidth": 0,
                            "ticks": ""
                          }
                        },
                        "type": "scatterpolar"
                      }
                    ],
                    "scatterpolargl": [
                      {
                        "marker": {
                          "colorbar": {
                            "outlinewidth": 0,
                            "ticks": ""
                          }
                        },
                        "type": "scatterpolargl"
                      }
                    ],
                    "scatterternary": [
                      {
                        "marker": {
                          "colorbar": {
                            "outlinewidth": 0,
                            "ticks": ""
                          }
                        },
                        "type": "scatterternary"
                      }
                    ],
                    "surface": [
                      {
                        "colorbar": {
                          "outlinewidth": 0,
                          "ticks": ""
                        },
                        "colorscale": [
                          [
                            0,
                            "#0d0887"
                          ],
                          [
                            0.1111111111111111,
                            "#46039f"
                          ],
                          [
                            0.2222222222222222,
                            "#7201a8"
                          ],
                          [
                            0.3333333333333333,
                            "#9c179e"
                          ],
                          [
                            0.4444444444444444,
                            "#bd3786"
                          ],
                          [
                            0.5555555555555556,
                            "#d8576b"
                          ],
                          [
                            0.6666666666666666,
                            "#ed7953"
                          ],
                          [
                            0.7777777777777778,
                            "#fb9f3a"
                          ],
                          [
                            0.8888888888888888,
                            "#fdca26"
                          ],
                          [
                            1,
                            "#f0f921"
                          ]
                        ],
                        "type": "surface"
                      }
                    ],
                    "table": [
                      {
                        "cells": {
                          "fill": {
                            "color": "#EBF0F8"
                          },
                          "line": {
                            "color": "white"
                          }
                        },
                        "header": {
                          "fill": {
                            "color": "#C8D4E3"
                          },
                          "line": {
                            "color": "white"
                          }
                        },
                        "type": "table"
                      }
                    ]
                  },
                  "layout": {
                    "annotationdefaults": {
                      "arrowcolor": "#2a3f5f",
                      "arrowhead": 0,
                      "arrowwidth": 1
                    },
                    "autotypenumbers": "strict",
                    "coloraxis": {
                      "colorbar": {
                        "outlinewidth": 0,
                        "ticks": ""
                      }
                    },
                    "colorscale": {
                      "diverging": [
                        [
                          0,
                          "#8e0152"
                        ],
                        [
                          0.1,
                          "#c51b7d"
                        ],
                        [
                          0.2,
                          "#de77ae"
                        ],
                        [
                          0.3,
                          "#f1b6da"
                        ],
                        [
                          0.4,
                          "#fde0ef"
                        ],
                        [
                          0.5,
                          "#f7f7f7"
                        ],
                        [
                          0.6,
                          "#e6f5d0"
                        ],
                        [
                          0.7,
                          "#b8e186"
                        ],
                        [
                          0.8,
                          "#7fbc41"
                        ],
                        [
                          0.9,
                          "#4d9221"
                        ],
                        [
                          1,
                          "#276419"
                        ]
                      ],
                      "sequential": [
                        [
                          0,
                          "#0d0887"
                        ],
                        [
                          0.1111111111111111,
                          "#46039f"
                        ],
                        [
                          0.2222222222222222,
                          "#7201a8"
                        ],
                        [
                          0.3333333333333333,
                          "#9c179e"
                        ],
                        [
                          0.4444444444444444,
                          "#bd3786"
                        ],
                        [
                          0.5555555555555556,
                          "#d8576b"
                        ],
                        [
                          0.6666666666666666,
                          "#ed7953"
                        ],
                        [
                          0.7777777777777778,
                          "#fb9f3a"
                        ],
                        [
                          0.8888888888888888,
                          "#fdca26"
                        ],
                        [
                          1,
                          "#f0f921"
                        ]
                      ],
                      "sequentialminus": [
                        [
                          0,
                          "#0d0887"
                        ],
                        [
                          0.1111111111111111,
                          "#46039f"
                        ],
                        [
                          0.2222222222222222,
                          "#7201a8"
                        ],
                        [
                          0.3333333333333333,
                          "#9c179e"
                        ],
                        [
                          0.4444444444444444,
                          "#bd3786"
                        ],
                        [
                          0.5555555555555556,
                          "#d8576b"
                        ],
                        [
                          0.6666666666666666,
                          "#ed7953"
                        ],
                        [
                          0.7777777777777778,
                          "#fb9f3a"
                        ],
                        [
                          0.8888888888888888,
                          "#fdca26"
                        ],
                        [
                          1,
                          "#f0f921"
                        ]
                      ]
                    },
                    "colorway": [
                      "#636efa",
                      "#EF553B",
                      "#00cc96",
                      "#ab63fa",
                      "#FFA15A",
                      "#19d3f3",
                      "#FF6692",
                      "#B6E880",
                      "#FF97FF",
                      "#FECB52"
                    ],
                    "font": {
                      "color": "#2a3f5f"
                    },
                    "geo": {
                      "bgcolor": "white",
                      "lakecolor": "white",
                      "landcolor": "#E5ECF6",
                      "showlakes": true,
                      "showland": true,
                      "subunitcolor": "white"
                    },
                    "hoverlabel": {
                      "align": "left"
                    },
                    "hovermode": "closest",
                    "mapbox": {
                      "style": "light"
                    },
                    "paper_bgcolor": "white",
                    "plot_bgcolor": "#E5ECF6",
                    "polar": {
                      "angularaxis": {
                        "gridcolor": "white",
                        "linecolor": "white",
                        "ticks": ""
                      },
                      "bgcolor": "#E5ECF6",
                      "radialaxis": {
                        "gridcolor": "white",
                        "linecolor": "white",
                        "ticks": ""
                      }
                    },
                    "scene": {
                      "xaxis": {
                        "backgroundcolor": "#E5ECF6",
                        "gridcolor": "white",
                        "gridwidth": 2,
                        "linecolor": "white",
                        "showbackground": true,
                        "ticks": "",
                        "zerolinecolor": "white"
                      },
                      "yaxis": {
                        "backgroundcolor": "#E5ECF6",
                        "gridcolor": "white",
                        "gridwidth": 2,
                        "linecolor": "white",
                        "showbackground": true,
                        "ticks": "",
                        "zerolinecolor": "white"
                      },
                      "zaxis": {
                        "backgroundcolor": "#E5ECF6",
                        "gridcolor": "white",
                        "gridwidth": 2,
                        "linecolor": "white",
                        "showbackground": true,
                        "ticks": "",
                        "zerolinecolor": "white"
                      }
                    },
                    "shapedefaults": {
                      "line": {
                        "color": "#2a3f5f"
                      }
                    },
                    "ternary": {
                      "aaxis": {
                        "gridcolor": "white",
                        "linecolor": "white",
                        "ticks": ""
                      },
                      "baxis": {
                        "gridcolor": "white",
                        "linecolor": "white",
                        "ticks": ""
                      },
                      "bgcolor": "#E5ECF6",
                      "caxis": {
                        "gridcolor": "white",
                        "linecolor": "white",
                        "ticks": ""
                      }
                    },
                    "title": {
                      "x": 0.05
                    },
                    "xaxis": {
                      "automargin": true,
                      "gridcolor": "white",
                      "linecolor": "white",
                      "ticks": "",
                      "title": {
                        "standoff": 15
                      },
                      "zerolinecolor": "white",
                      "zerolinewidth": 2
                    },
                    "yaxis": {
                      "automargin": true,
                      "gridcolor": "white",
                      "linecolor": "white",
                      "ticks": "",
                      "title": {
                        "standoff": 15
                      },
                      "zerolinecolor": "white",
                      "zerolinewidth": 2
                    }
                  }
                },
                "title": {
                  "text": "Trend of Orders Over Time"
                },
                "xaxis": {
                  "anchor": "y",
                  "domain": [
                    0,
                    1
                  ],
                  "title": {
                    "text": "Date"
                  }
                },
                "yaxis": {
                  "anchor": "x",
                  "domain": [
                    0,
                    1
                  ],
                  "title": {
                    "text": "Number of Orders"
                  }
                }
              }
            }
          },
          "metadata": {},
          "output_type": "display_data"
        },
        {
          "name": "stdout",
          "output_type": "stream",
          "text": [
            "Average Orders per Day: 59.67\n"
          ]
        }
      ],
      "source": [
        "# Query to get the date range of orders\n",
        "query_date_range = \"SELECT MIN(order_date) AS min_date, MAX(order_date) AS max_date FROM order_details;\"\n",
        "date_range_df = pd.read_sql_query(query_date_range, engine)\n",
        "query_orders_per_day = \"\"\"\n",
        "SELECT order_date, COUNT(DISTINCT order_id) AS number_of_orders\n",
        "FROM order_details\n",
        "GROUP BY order_date\n",
        "ORDER BY order_date;\n",
        "\"\"\"\n",
        "orders_per_day_df = pd.read_sql_query(query_orders_per_day, engine)\n",
        "fig_timeline = px.line(orders_per_day_df, x='order_date', y='number_of_orders',\n",
        "                       title='Trend of Orders Over Time',\n",
        "                       labels={'order_date': 'Date', 'number_of_orders': 'Number of Orders'},\n",
        "                       markers=True)\n",
        "fig_timeline.show()\n",
        "\n",
        "min_date = date_range_df['min_date'][0]\n",
        "max_date = date_range_df['max_date'][0]\n",
        "date_range = pd.to_datetime(max_date) - pd.to_datetime(min_date)\n",
        "num_days = date_range.days + 1\n",
        "query_total_orders = \"SELECT COUNT(DISTINCT order_id) AS total_orders FROM order_details;\"\n",
        "total_orders_df = pd.read_sql_query(query_total_orders, engine)\n",
        "total_orders = total_orders_df['total_orders'][0]\n",
        "\n",
        "# Calculate average orders per day\n",
        "average_orders_per_day = total_orders / num_days\n",
        "print(f\"Average Orders per Day: {average_orders_per_day:.2f}\")"
      ]
    },
    {
      "cell_type": "markdown",
      "metadata": {
        "id": "ktUOTA8ISodF"
      },
      "source": [
        "##**Objective 3**"
      ]
    },
    {
      "cell_type": "markdown",
      "metadata": {
        "id": "2-sIF6ZJS13n"
      },
      "source": [
        "**1. Combine menu items and order_details:**"
      ]
    },
    {
      "cell_type": "code",
      "execution_count": 21,
      "metadata": {
        "colab": {
          "base_uri": "https://localhost:8080/",
          "height": 423
        },
        "id": "o-hDvkVXTLAU",
        "outputId": "fd079764-7178-4a8a-a93e-281434200a6e"
      },
      "outputs": [
        {
          "data": {
            "text/html": [
              "<div>\n",
              "<style scoped>\n",
              "    .dataframe tbody tr th:only-of-type {\n",
              "        vertical-align: middle;\n",
              "    }\n",
              "\n",
              "    .dataframe tbody tr th {\n",
              "        vertical-align: top;\n",
              "    }\n",
              "\n",
              "    .dataframe thead th {\n",
              "        text-align: right;\n",
              "    }\n",
              "</style>\n",
              "<table border=\"1\" class=\"dataframe\">\n",
              "  <thead>\n",
              "    <tr style=\"text-align: right;\">\n",
              "      <th></th>\n",
              "      <th>order_details_id</th>\n",
              "      <th>order_id</th>\n",
              "      <th>order_date</th>\n",
              "      <th>order_time</th>\n",
              "      <th>item_id</th>\n",
              "      <th>menu_item_id</th>\n",
              "      <th>item_name</th>\n",
              "      <th>category</th>\n",
              "      <th>price</th>\n",
              "    </tr>\n",
              "  </thead>\n",
              "  <tbody>\n",
              "    <tr>\n",
              "      <th>0</th>\n",
              "      <td>1</td>\n",
              "      <td>1</td>\n",
              "      <td>2023-01-01</td>\n",
              "      <td>11:38:36</td>\n",
              "      <td>109.0</td>\n",
              "      <td>109.0</td>\n",
              "      <td>Korean Beef Bowl</td>\n",
              "      <td>Asian</td>\n",
              "      <td>17.95</td>\n",
              "    </tr>\n",
              "    <tr>\n",
              "      <th>1</th>\n",
              "      <td>2</td>\n",
              "      <td>2</td>\n",
              "      <td>2023-01-01</td>\n",
              "      <td>11:57:40</td>\n",
              "      <td>108.0</td>\n",
              "      <td>108.0</td>\n",
              "      <td>Tofu Pad Thai</td>\n",
              "      <td>Asian</td>\n",
              "      <td>14.50</td>\n",
              "    </tr>\n",
              "    <tr>\n",
              "      <th>2</th>\n",
              "      <td>3</td>\n",
              "      <td>2</td>\n",
              "      <td>2023-01-01</td>\n",
              "      <td>11:57:40</td>\n",
              "      <td>124.0</td>\n",
              "      <td>124.0</td>\n",
              "      <td>Spaghetti</td>\n",
              "      <td>Italian</td>\n",
              "      <td>14.50</td>\n",
              "    </tr>\n",
              "    <tr>\n",
              "      <th>3</th>\n",
              "      <td>4</td>\n",
              "      <td>2</td>\n",
              "      <td>2023-01-01</td>\n",
              "      <td>11:57:40</td>\n",
              "      <td>117.0</td>\n",
              "      <td>117.0</td>\n",
              "      <td>Chicken Burrito</td>\n",
              "      <td>Mexican</td>\n",
              "      <td>12.95</td>\n",
              "    </tr>\n",
              "    <tr>\n",
              "      <th>4</th>\n",
              "      <td>5</td>\n",
              "      <td>2</td>\n",
              "      <td>2023-01-01</td>\n",
              "      <td>11:57:40</td>\n",
              "      <td>129.0</td>\n",
              "      <td>129.0</td>\n",
              "      <td>Mushroom Ravioli</td>\n",
              "      <td>Italian</td>\n",
              "      <td>15.50</td>\n",
              "    </tr>\n",
              "    <tr>\n",
              "      <th>...</th>\n",
              "      <td>...</td>\n",
              "      <td>...</td>\n",
              "      <td>...</td>\n",
              "      <td>...</td>\n",
              "      <td>...</td>\n",
              "      <td>...</td>\n",
              "      <td>...</td>\n",
              "      <td>...</td>\n",
              "      <td>...</td>\n",
              "    </tr>\n",
              "    <tr>\n",
              "      <th>12229</th>\n",
              "      <td>12230</td>\n",
              "      <td>5369</td>\n",
              "      <td>2023-03-31</td>\n",
              "      <td>22:05:04</td>\n",
              "      <td>109.0</td>\n",
              "      <td>109.0</td>\n",
              "      <td>Korean Beef Bowl</td>\n",
              "      <td>Asian</td>\n",
              "      <td>17.95</td>\n",
              "    </tr>\n",
              "    <tr>\n",
              "      <th>12230</th>\n",
              "      <td>12231</td>\n",
              "      <td>5369</td>\n",
              "      <td>2023-03-31</td>\n",
              "      <td>22:05:04</td>\n",
              "      <td>129.0</td>\n",
              "      <td>129.0</td>\n",
              "      <td>Mushroom Ravioli</td>\n",
              "      <td>Italian</td>\n",
              "      <td>15.50</td>\n",
              "    </tr>\n",
              "    <tr>\n",
              "      <th>12231</th>\n",
              "      <td>12232</td>\n",
              "      <td>5369</td>\n",
              "      <td>2023-03-31</td>\n",
              "      <td>22:05:04</td>\n",
              "      <td>120.0</td>\n",
              "      <td>120.0</td>\n",
              "      <td>Steak Torta</td>\n",
              "      <td>Mexican</td>\n",
              "      <td>13.95</td>\n",
              "    </tr>\n",
              "    <tr>\n",
              "      <th>12232</th>\n",
              "      <td>12233</td>\n",
              "      <td>5369</td>\n",
              "      <td>2023-03-31</td>\n",
              "      <td>22:05:04</td>\n",
              "      <td>122.0</td>\n",
              "      <td>122.0</td>\n",
              "      <td>Chips &amp; Salsa</td>\n",
              "      <td>Mexican</td>\n",
              "      <td>7.00</td>\n",
              "    </tr>\n",
              "    <tr>\n",
              "      <th>12233</th>\n",
              "      <td>12234</td>\n",
              "      <td>5370</td>\n",
              "      <td>2023-03-31</td>\n",
              "      <td>22:15:48</td>\n",
              "      <td>122.0</td>\n",
              "      <td>122.0</td>\n",
              "      <td>Chips &amp; Salsa</td>\n",
              "      <td>Mexican</td>\n",
              "      <td>7.00</td>\n",
              "    </tr>\n",
              "  </tbody>\n",
              "</table>\n",
              "<p>12234 rows × 9 columns</p>\n",
              "</div>"
            ],
            "text/plain": [
              "       order_details_id  order_id  order_date order_time  item_id  \\\n",
              "0                     1         1  2023-01-01   11:38:36    109.0   \n",
              "1                     2         2  2023-01-01   11:57:40    108.0   \n",
              "2                     3         2  2023-01-01   11:57:40    124.0   \n",
              "3                     4         2  2023-01-01   11:57:40    117.0   \n",
              "4                     5         2  2023-01-01   11:57:40    129.0   \n",
              "...                 ...       ...         ...        ...      ...   \n",
              "12229             12230      5369  2023-03-31   22:05:04    109.0   \n",
              "12230             12231      5369  2023-03-31   22:05:04    129.0   \n",
              "12231             12232      5369  2023-03-31   22:05:04    120.0   \n",
              "12232             12233      5369  2023-03-31   22:05:04    122.0   \n",
              "12233             12234      5370  2023-03-31   22:15:48    122.0   \n",
              "\n",
              "       menu_item_id         item_name category  price  \n",
              "0             109.0  Korean Beef Bowl    Asian  17.95  \n",
              "1             108.0     Tofu Pad Thai    Asian  14.50  \n",
              "2             124.0         Spaghetti  Italian  14.50  \n",
              "3             117.0   Chicken Burrito  Mexican  12.95  \n",
              "4             129.0  Mushroom Ravioli  Italian  15.50  \n",
              "...             ...               ...      ...    ...  \n",
              "12229         109.0  Korean Beef Bowl    Asian  17.95  \n",
              "12230         129.0  Mushroom Ravioli  Italian  15.50  \n",
              "12231         120.0       Steak Torta  Mexican  13.95  \n",
              "12232         122.0     Chips & Salsa  Mexican   7.00  \n",
              "12233         122.0     Chips & Salsa  Mexican   7.00  \n",
              "\n",
              "[12234 rows x 9 columns]"
            ]
          },
          "metadata": {},
          "output_type": "display_data"
        }
      ],
      "source": [
        "query_combined = \"\"\"\n",
        "SELECT * FROM order_details od\n",
        "LEFT JOIN menu_items mi\n",
        "ON od.item_id = mi.menu_item_id;\n",
        "\"\"\"\n",
        "combined_df = pd.read_sql(query_combined, engine)\n",
        "display(combined_df)"
      ]
    },
    {
      "cell_type": "markdown",
      "metadata": {
        "id": "4CI7oMc6TTra"
      },
      "source": [
        "**2. Least and most ordered items:**"
      ]
    },
    {
      "cell_type": "code",
      "execution_count": 22,
      "metadata": {
        "colab": {
          "base_uri": "https://localhost:8080/",
          "height": 468
        },
        "id": "gfVqcZ8XTZSu",
        "outputId": "7d838086-79ef-4f7c-cee5-136397bd75c0"
      },
      "outputs": [
        {
          "name": "stdout",
          "output_type": "stream",
          "text": [
            "Top-5 least ordered dishes\n"
          ]
        },
        {
          "data": {
            "text/html": [
              "<div>\n",
              "<style scoped>\n",
              "    .dataframe tbody tr th:only-of-type {\n",
              "        vertical-align: middle;\n",
              "    }\n",
              "\n",
              "    .dataframe tbody tr th {\n",
              "        vertical-align: top;\n",
              "    }\n",
              "\n",
              "    .dataframe thead th {\n",
              "        text-align: right;\n",
              "    }\n",
              "</style>\n",
              "<table border=\"1\" class=\"dataframe\">\n",
              "  <thead>\n",
              "    <tr style=\"text-align: right;\">\n",
              "      <th></th>\n",
              "      <th>item_name</th>\n",
              "      <th>category</th>\n",
              "      <th>total_purchase</th>\n",
              "    </tr>\n",
              "  </thead>\n",
              "  <tbody>\n",
              "    <tr>\n",
              "      <th>0</th>\n",
              "      <td>Chicken Tacos</td>\n",
              "      <td>Mexican</td>\n",
              "      <td>123</td>\n",
              "    </tr>\n",
              "    <tr>\n",
              "      <th>1</th>\n",
              "      <td>None</td>\n",
              "      <td>None</td>\n",
              "      <td>137</td>\n",
              "    </tr>\n",
              "    <tr>\n",
              "      <th>2</th>\n",
              "      <td>Potstickers</td>\n",
              "      <td>Asian</td>\n",
              "      <td>205</td>\n",
              "    </tr>\n",
              "    <tr>\n",
              "      <th>3</th>\n",
              "      <td>Cheese Lasagna</td>\n",
              "      <td>Italian</td>\n",
              "      <td>207</td>\n",
              "    </tr>\n",
              "    <tr>\n",
              "      <th>4</th>\n",
              "      <td>Steak Tacos</td>\n",
              "      <td>Mexican</td>\n",
              "      <td>214</td>\n",
              "    </tr>\n",
              "  </tbody>\n",
              "</table>\n",
              "</div>"
            ],
            "text/plain": [
              "        item_name category  total_purchase\n",
              "0   Chicken Tacos  Mexican             123\n",
              "1            None     None             137\n",
              "2     Potstickers    Asian             205\n",
              "3  Cheese Lasagna  Italian             207\n",
              "4     Steak Tacos  Mexican             214"
            ]
          },
          "metadata": {},
          "output_type": "display_data"
        },
        {
          "name": "stdout",
          "output_type": "stream",
          "text": [
            "\n",
            "\n",
            "Top-5 most ordered dishes\n"
          ]
        },
        {
          "data": {
            "text/html": [
              "<div>\n",
              "<style scoped>\n",
              "    .dataframe tbody tr th:only-of-type {\n",
              "        vertical-align: middle;\n",
              "    }\n",
              "\n",
              "    .dataframe tbody tr th {\n",
              "        vertical-align: top;\n",
              "    }\n",
              "\n",
              "    .dataframe thead th {\n",
              "        text-align: right;\n",
              "    }\n",
              "</style>\n",
              "<table border=\"1\" class=\"dataframe\">\n",
              "  <thead>\n",
              "    <tr style=\"text-align: right;\">\n",
              "      <th></th>\n",
              "      <th>item_name</th>\n",
              "      <th>category</th>\n",
              "      <th>total_purchase</th>\n",
              "    </tr>\n",
              "  </thead>\n",
              "  <tbody>\n",
              "    <tr>\n",
              "      <th>0</th>\n",
              "      <td>Hamburger</td>\n",
              "      <td>American</td>\n",
              "      <td>622</td>\n",
              "    </tr>\n",
              "    <tr>\n",
              "      <th>1</th>\n",
              "      <td>Edamame</td>\n",
              "      <td>Asian</td>\n",
              "      <td>620</td>\n",
              "    </tr>\n",
              "    <tr>\n",
              "      <th>2</th>\n",
              "      <td>Korean Beef Bowl</td>\n",
              "      <td>Asian</td>\n",
              "      <td>588</td>\n",
              "    </tr>\n",
              "    <tr>\n",
              "      <th>3</th>\n",
              "      <td>Cheeseburger</td>\n",
              "      <td>American</td>\n",
              "      <td>583</td>\n",
              "    </tr>\n",
              "    <tr>\n",
              "      <th>4</th>\n",
              "      <td>French Fries</td>\n",
              "      <td>American</td>\n",
              "      <td>571</td>\n",
              "    </tr>\n",
              "  </tbody>\n",
              "</table>\n",
              "</div>"
            ],
            "text/plain": [
              "          item_name  category  total_purchase\n",
              "0         Hamburger  American             622\n",
              "1           Edamame     Asian             620\n",
              "2  Korean Beef Bowl     Asian             588\n",
              "3      Cheeseburger  American             583\n",
              "4      French Fries  American             571"
            ]
          },
          "metadata": {},
          "output_type": "display_data"
        }
      ],
      "source": [
        "query_least_ordered = \"\"\"\n",
        "SELECT item_name, category, COUNT(order_details_id) AS total_purchase\n",
        "FROM order_details od\n",
        "LEFT JOIN menu_items mi\n",
        "ON od.item_id = mi.menu_item_id\n",
        "GROUP BY item_name, category\n",
        "ORDER BY total_purchase ASC;\n",
        "\"\"\"\n",
        "print('Top-5 least ordered dishes')\n",
        "least_ordered_df = pd.read_sql(query_least_ordered, engine)\n",
        "display(least_ordered_df.head())\n",
        "\n",
        "query_most_ordered = \"\"\"\n",
        "SELECT item_name, category, COUNT(order_details_id) AS total_purchase\n",
        "FROM order_details od\n",
        "LEFT JOIN menu_items mi\n",
        "ON od.item_id = mi.menu_item_id\n",
        "GROUP BY item_name, category\n",
        "ORDER BY total_purchase DESC;\n",
        "\"\"\"\n",
        "print('\\n\\nTop-5 most ordered dishes')\n",
        "most_ordered_df = pd.read_sql(query_most_ordered, engine)\n",
        "display(most_ordered_df.head())"
      ]
    },
    {
      "cell_type": "markdown",
      "metadata": {
        "id": "qEZ3fGXwUCMV"
      },
      "source": [
        "**3. Top 10 orders that spent the most money**"
      ]
    },
    {
      "cell_type": "code",
      "execution_count": 23,
      "metadata": {
        "colab": {
          "base_uri": "https://localhost:8080/",
          "height": 363
        },
        "id": "a6pxXk0HUF-r",
        "outputId": "00bc3572-56ea-434d-fa54-de6a1d53b7c3"
      },
      "outputs": [
        {
          "data": {
            "text/html": [
              "<div>\n",
              "<style scoped>\n",
              "    .dataframe tbody tr th:only-of-type {\n",
              "        vertical-align: middle;\n",
              "    }\n",
              "\n",
              "    .dataframe tbody tr th {\n",
              "        vertical-align: top;\n",
              "    }\n",
              "\n",
              "    .dataframe thead th {\n",
              "        text-align: right;\n",
              "    }\n",
              "</style>\n",
              "<table border=\"1\" class=\"dataframe\">\n",
              "  <thead>\n",
              "    <tr style=\"text-align: right;\">\n",
              "      <th></th>\n",
              "      <th>order_id</th>\n",
              "      <th>total_order_price</th>\n",
              "    </tr>\n",
              "  </thead>\n",
              "  <tbody>\n",
              "    <tr>\n",
              "      <th>0</th>\n",
              "      <td>440</td>\n",
              "      <td>192.15</td>\n",
              "    </tr>\n",
              "    <tr>\n",
              "      <th>1</th>\n",
              "      <td>2075</td>\n",
              "      <td>191.05</td>\n",
              "    </tr>\n",
              "    <tr>\n",
              "      <th>2</th>\n",
              "      <td>1957</td>\n",
              "      <td>190.10</td>\n",
              "    </tr>\n",
              "    <tr>\n",
              "      <th>3</th>\n",
              "      <td>330</td>\n",
              "      <td>189.70</td>\n",
              "    </tr>\n",
              "    <tr>\n",
              "      <th>4</th>\n",
              "      <td>2675</td>\n",
              "      <td>185.10</td>\n",
              "    </tr>\n",
              "    <tr>\n",
              "      <th>5</th>\n",
              "      <td>4482</td>\n",
              "      <td>184.50</td>\n",
              "    </tr>\n",
              "    <tr>\n",
              "      <th>6</th>\n",
              "      <td>1274</td>\n",
              "      <td>183.55</td>\n",
              "    </tr>\n",
              "    <tr>\n",
              "      <th>7</th>\n",
              "      <td>2188</td>\n",
              "      <td>182.65</td>\n",
              "    </tr>\n",
              "    <tr>\n",
              "      <th>8</th>\n",
              "      <td>3473</td>\n",
              "      <td>182.55</td>\n",
              "    </tr>\n",
              "    <tr>\n",
              "      <th>9</th>\n",
              "      <td>3583</td>\n",
              "      <td>179.60</td>\n",
              "    </tr>\n",
              "  </tbody>\n",
              "</table>\n",
              "</div>"
            ],
            "text/plain": [
              "   order_id  total_order_price\n",
              "0       440             192.15\n",
              "1      2075             191.05\n",
              "2      1957             190.10\n",
              "3       330             189.70\n",
              "4      2675             185.10\n",
              "5      4482             184.50\n",
              "6      1274             183.55\n",
              "7      2188             182.65\n",
              "8      3473             182.55\n",
              "9      3583             179.60"
            ]
          },
          "metadata": {},
          "output_type": "display_data"
        }
      ],
      "source": [
        "query_top_orders = \"\"\"\n",
        "SELECT order_id, SUM(price) AS total_order_price\n",
        "FROM order_details od\n",
        "LEFT JOIN menu_items mi\n",
        "ON od.item_id = mi.menu_item_id\n",
        "GROUP BY order_id\n",
        "ORDER BY total_order_price DESC LIMIT 10;\n",
        "\"\"\"\n",
        "top_orders_df = pd.read_sql(query_top_orders, engine)\n",
        "display(top_orders_df)"
      ]
    },
    {
      "cell_type": "markdown",
      "metadata": {
        "id": "MKqWiDH0Up9u"
      },
      "source": [
        "**4. Details of the highest spend order:**"
      ]
    },
    {
      "cell_type": "code",
      "execution_count": 24,
      "metadata": {
        "colab": {
          "base_uri": "https://localhost:8080/",
          "height": 175
        },
        "id": "HGrrOtkbUqI0",
        "outputId": "71f786d4-219e-4bfc-e809-b8840a65cfca"
      },
      "outputs": [
        {
          "data": {
            "text/html": [
              "<div>\n",
              "<style scoped>\n",
              "    .dataframe tbody tr th:only-of-type {\n",
              "        vertical-align: middle;\n",
              "    }\n",
              "\n",
              "    .dataframe tbody tr th {\n",
              "        vertical-align: top;\n",
              "    }\n",
              "\n",
              "    .dataframe thead th {\n",
              "        text-align: right;\n",
              "    }\n",
              "</style>\n",
              "<table border=\"1\" class=\"dataframe\">\n",
              "  <thead>\n",
              "    <tr style=\"text-align: right;\">\n",
              "      <th></th>\n",
              "      <th>category</th>\n",
              "      <th>num_items</th>\n",
              "    </tr>\n",
              "  </thead>\n",
              "  <tbody>\n",
              "    <tr>\n",
              "      <th>0</th>\n",
              "      <td>American</td>\n",
              "      <td>2</td>\n",
              "    </tr>\n",
              "    <tr>\n",
              "      <th>1</th>\n",
              "      <td>Asian</td>\n",
              "      <td>2</td>\n",
              "    </tr>\n",
              "    <tr>\n",
              "      <th>2</th>\n",
              "      <td>Italian</td>\n",
              "      <td>8</td>\n",
              "    </tr>\n",
              "    <tr>\n",
              "      <th>3</th>\n",
              "      <td>Mexican</td>\n",
              "      <td>2</td>\n",
              "    </tr>\n",
              "  </tbody>\n",
              "</table>\n",
              "</div>"
            ],
            "text/plain": [
              "   category  num_items\n",
              "0  American          2\n",
              "1     Asian          2\n",
              "2   Italian          8\n",
              "3   Mexican          2"
            ]
          },
          "metadata": {},
          "output_type": "display_data"
        }
      ],
      "source": [
        "query_highest_spend_order = \"\"\"\n",
        "SELECT category, COUNT(item_id) AS num_items\n",
        "FROM order_details od\n",
        "LEFT JOIN menu_items mi\n",
        "ON od.item_id = mi.menu_item_id\n",
        "WHERE order_id = 440\n",
        "GROUP BY category;\n",
        "\"\"\"\n",
        "highest_spend_order_df = pd.read_sql(query_highest_spend_order, engine)\n",
        "display(highest_spend_order_df)"
      ]
    },
    {
      "cell_type": "markdown",
      "metadata": {
        "id": "7XhfikopU4jO"
      },
      "source": [
        "**5. Details of the top 5 highest spend orders:**"
      ]
    },
    {
      "cell_type": "code",
      "execution_count": 25,
      "metadata": {
        "colab": {
          "base_uri": "https://localhost:8080/",
          "height": 676
        },
        "id": "er6UF5mBUzGE",
        "outputId": "8d51bee0-6fa8-499a-bd4f-3be5c8de5795"
      },
      "outputs": [
        {
          "data": {
            "text/html": [
              "<div>\n",
              "<style scoped>\n",
              "    .dataframe tbody tr th:only-of-type {\n",
              "        vertical-align: middle;\n",
              "    }\n",
              "\n",
              "    .dataframe tbody tr th {\n",
              "        vertical-align: top;\n",
              "    }\n",
              "\n",
              "    .dataframe thead th {\n",
              "        text-align: right;\n",
              "    }\n",
              "</style>\n",
              "<table border=\"1\" class=\"dataframe\">\n",
              "  <thead>\n",
              "    <tr style=\"text-align: right;\">\n",
              "      <th></th>\n",
              "      <th>order_id</th>\n",
              "      <th>category</th>\n",
              "      <th>num_items</th>\n",
              "    </tr>\n",
              "  </thead>\n",
              "  <tbody>\n",
              "    <tr>\n",
              "      <th>0</th>\n",
              "      <td>330</td>\n",
              "      <td>American</td>\n",
              "      <td>1</td>\n",
              "    </tr>\n",
              "    <tr>\n",
              "      <th>1</th>\n",
              "      <td>330</td>\n",
              "      <td>Asian</td>\n",
              "      <td>6</td>\n",
              "    </tr>\n",
              "    <tr>\n",
              "      <th>2</th>\n",
              "      <td>330</td>\n",
              "      <td>Italian</td>\n",
              "      <td>3</td>\n",
              "    </tr>\n",
              "    <tr>\n",
              "      <th>3</th>\n",
              "      <td>330</td>\n",
              "      <td>Mexican</td>\n",
              "      <td>4</td>\n",
              "    </tr>\n",
              "    <tr>\n",
              "      <th>4</th>\n",
              "      <td>440</td>\n",
              "      <td>American</td>\n",
              "      <td>2</td>\n",
              "    </tr>\n",
              "    <tr>\n",
              "      <th>5</th>\n",
              "      <td>440</td>\n",
              "      <td>Asian</td>\n",
              "      <td>2</td>\n",
              "    </tr>\n",
              "    <tr>\n",
              "      <th>6</th>\n",
              "      <td>440</td>\n",
              "      <td>Italian</td>\n",
              "      <td>8</td>\n",
              "    </tr>\n",
              "    <tr>\n",
              "      <th>7</th>\n",
              "      <td>440</td>\n",
              "      <td>Mexican</td>\n",
              "      <td>2</td>\n",
              "    </tr>\n",
              "    <tr>\n",
              "      <th>8</th>\n",
              "      <td>1957</td>\n",
              "      <td>American</td>\n",
              "      <td>3</td>\n",
              "    </tr>\n",
              "    <tr>\n",
              "      <th>9</th>\n",
              "      <td>1957</td>\n",
              "      <td>Asian</td>\n",
              "      <td>3</td>\n",
              "    </tr>\n",
              "    <tr>\n",
              "      <th>10</th>\n",
              "      <td>1957</td>\n",
              "      <td>Italian</td>\n",
              "      <td>5</td>\n",
              "    </tr>\n",
              "    <tr>\n",
              "      <th>11</th>\n",
              "      <td>1957</td>\n",
              "      <td>Mexican</td>\n",
              "      <td>3</td>\n",
              "    </tr>\n",
              "    <tr>\n",
              "      <th>12</th>\n",
              "      <td>2075</td>\n",
              "      <td>American</td>\n",
              "      <td>1</td>\n",
              "    </tr>\n",
              "    <tr>\n",
              "      <th>13</th>\n",
              "      <td>2075</td>\n",
              "      <td>Asian</td>\n",
              "      <td>3</td>\n",
              "    </tr>\n",
              "    <tr>\n",
              "      <th>14</th>\n",
              "      <td>2075</td>\n",
              "      <td>Italian</td>\n",
              "      <td>6</td>\n",
              "    </tr>\n",
              "    <tr>\n",
              "      <th>15</th>\n",
              "      <td>2075</td>\n",
              "      <td>Mexican</td>\n",
              "      <td>3</td>\n",
              "    </tr>\n",
              "    <tr>\n",
              "      <th>16</th>\n",
              "      <td>2675</td>\n",
              "      <td>American</td>\n",
              "      <td>3</td>\n",
              "    </tr>\n",
              "    <tr>\n",
              "      <th>17</th>\n",
              "      <td>2675</td>\n",
              "      <td>Asian</td>\n",
              "      <td>3</td>\n",
              "    </tr>\n",
              "    <tr>\n",
              "      <th>18</th>\n",
              "      <td>2675</td>\n",
              "      <td>Italian</td>\n",
              "      <td>4</td>\n",
              "    </tr>\n",
              "    <tr>\n",
              "      <th>19</th>\n",
              "      <td>2675</td>\n",
              "      <td>Mexican</td>\n",
              "      <td>4</td>\n",
              "    </tr>\n",
              "  </tbody>\n",
              "</table>\n",
              "</div>"
            ],
            "text/plain": [
              "    order_id  category  num_items\n",
              "0        330  American          1\n",
              "1        330     Asian          6\n",
              "2        330   Italian          3\n",
              "3        330   Mexican          4\n",
              "4        440  American          2\n",
              "5        440     Asian          2\n",
              "6        440   Italian          8\n",
              "7        440   Mexican          2\n",
              "8       1957  American          3\n",
              "9       1957     Asian          3\n",
              "10      1957   Italian          5\n",
              "11      1957   Mexican          3\n",
              "12      2075  American          1\n",
              "13      2075     Asian          3\n",
              "14      2075   Italian          6\n",
              "15      2075   Mexican          3\n",
              "16      2675  American          3\n",
              "17      2675     Asian          3\n",
              "18      2675   Italian          4\n",
              "19      2675   Mexican          4"
            ]
          },
          "metadata": {},
          "output_type": "display_data"
        }
      ],
      "source": [
        "query_top_5_orders = \"\"\"\n",
        "SELECT order_id, category, COUNT(item_id) AS num_items\n",
        "FROM order_details od\n",
        "LEFT JOIN menu_items mi\n",
        "ON od.item_id = mi.menu_item_id\n",
        "WHERE order_id IN (440, 2075, 1957, 330, 2675)\n",
        "GROUP BY order_id, category;\n",
        "\"\"\"\n",
        "top_5_orders_df = pd.read_sql(query_top_5_orders, engine)\n",
        "display(top_5_orders_df)"
      ]
    },
    {
      "cell_type": "code",
      "execution_count": 26,
      "metadata": {
        "colab": {
          "base_uri": "https://localhost:8080/",
          "height": 654
        },
        "id": "gqawaDX9VRQ4",
        "outputId": "8f5d32e6-2aa4-41c5-cb79-0a4e61de10b7"
      },
      "outputs": [
        {
          "data": {
            "image/png": "[encoded data removed]",
            "text/plain": [
              "<Figure size 1400x700 with 2 Axes>"
            ]
          },
          "metadata": {},
          "output_type": "display_data"
        }
      ],
      "source": [
        "# Visualization for least and most ordered items\n",
        "plt.figure(figsize=(14, 7))\n",
        "\n",
        "# Least Ordered Items\n",
        "plt.subplot(1, 2, 1)\n",
        "sns.barplot(x='total_purchase', y='item_name', data=least_ordered_df, palette='coolwarm')\n",
        "plt.title('Least to Most Ordered Items')\n",
        "plt.xlabel('Total Purchases')\n",
        "plt.ylabel('Item Name')\n",
        "\n",
        "# Most Ordered Items\n",
        "plt.subplot(1, 2, 2)\n",
        "sns.barplot(x='total_purchase', y='item_name', data=most_ordered_df, palette='viridis')\n",
        "plt.title('Most to Least Ordered Items')\n",
        "plt.xlabel('Total Purchases')\n",
        "plt.ylabel('Item Name')\n",
        "\n",
        "plt.tight_layout()\n",
        "plt.show()\n",
        "\n",
        "\n",
        "\n",
        "\n"
      ]
    },
    {
      "cell_type": "code",
      "execution_count": 27,
      "metadata": {
        "colab": {
          "base_uri": "https://localhost:8080/",
          "height": 542
        },
        "id": "Op9iT2FiVx2b",
        "outputId": "853ed055-48a8-4c31-ede9-2f569dc1a527"
      },
      "outputs": [
        {
          "data": {
            "application/vnd.plotly.v1+json": {
              "config": {
                "plotlyServerURL": "https://plot.ly"
              },
              "data": [
                {
                  "alignmentgroup": "True",
                  "hovertemplate": "Order ID=%{x}<br>Total Order Price=%{marker.color}<extra></extra>",
                  "legendgroup": "",
                  "marker": {
                    "color": [
                      192.15,
                      191.04999999999998,
                      190.1,
                      189.7,
                      185.1,
                      184.5,
                      183.54999999999998,
                      182.65,
                      182.54999999999998,
                      179.6
                    ],
                    "coloraxis": "coloraxis",
                    "pattern": {
                      "shape": ""
                    }
                  },
                  "name": "",
                  "offsetgroup": "",
                  "orientation": "v",
                  "showlegend": false,
                  "textposition": "auto",
                  "type": "bar",
                  "x": [
                    440,
                    2075,
                    1957,
                    330,
                    2675,
                    4482,
                    1274,
                    2188,
                    3473,
                    3583
                  ],
                  "xaxis": "x",
                  "y": [
                    192.15,
                    191.04999999999998,
                    190.1,
                    189.7,
                    185.1,
                    184.5,
                    183.54999999999998,
                    182.65,
                    182.54999999999998,
                    179.6
                  ],
                  "yaxis": "y"
                }
              ],
              "layout": {
                "barmode": "relative",
                "coloraxis": {
                  "colorbar": {
                    "title": {
                      "text": "Total Order Price"
                    }
                  },
                  "colorscale": [
                    [
                      0,
                      "#440154"
                    ],
                    [
                      0.1111111111111111,
                      "#482878"
                    ],
                    [
                      0.2222222222222222,
                      "#3e4989"
                    ],
                    [
                      0.3333333333333333,
                      "#31688e"
                    ],
                    [
                      0.4444444444444444,
                      "#26828e"
                    ],
                    [
                      0.5555555555555556,
                      "#1f9e89"
                    ],
                    [
                      0.6666666666666666,
                      "#35b779"
                    ],
                    [
                      0.7777777777777778,
                      "#6ece58"
                    ],
                    [
                      0.8888888888888888,
                      "#b5de2b"
                    ],
                    [
                      1,
                      "#fde725"
                    ]
                  ]
                },
                "legend": {
                  "tracegroupgap": 0
                },
                "template": {
                  "data": {
                    "bar": [
                      {
                        "error_x": {
                          "color": "#2a3f5f"
                        },
                        "error_y": {
                          "color": "#2a3f5f"
                        },
                        "marker": {
                          "line": {
                            "color": "#E5ECF6",
                            "width": 0.5
                          },
                          "pattern": {
                            "fillmode": "overlay",
                            "size": 10,
                            "solidity": 0.2
                          }
                        },
                        "type": "bar"
                      }
                    ],
                    "barpolar": [
                      {
                        "marker": {
                          "line": {
                            "color": "#E5ECF6",
                            "width": 0.5
                          },
                          "pattern": {
                            "fillmode": "overlay",
                            "size": 10,
                            "solidity": 0.2
                          }
                        },
                        "type": "barpolar"
                      }
                    ],
                    "carpet": [
                      {
                        "aaxis": {
                          "endlinecolor": "#2a3f5f",
                          "gridcolor": "white",
                          "linecolor": "white",
                          "minorgridcolor": "white",
                          "startlinecolor": "#2a3f5f"
                        },
                        "baxis": {
                          "endlinecolor": "#2a3f5f",
                          "gridcolor": "white",
                          "linecolor": "white",
                          "minorgridcolor": "white",
                          "startlinecolor": "#2a3f5f"
                        },
                        "type": "carpet"
                      }
                    ],
                    "choropleth": [
                      {
                        "colorbar": {
                          "outlinewidth": 0,
                          "ticks": ""
                        },
                        "type": "choropleth"
                      }
                    ],
                    "contour": [
                      {
                        "colorbar": {
                          "outlinewidth": 0,
                          "ticks": ""
                        },
                        "colorscale": [
                          [
                            0,
                            "#0d0887"
                          ],
                          [
                            0.1111111111111111,
                            "#46039f"
                          ],
                          [
                            0.2222222222222222,
                            "#7201a8"
                          ],
                          [
                            0.3333333333333333,
                            "#9c179e"
                          ],
                          [
                            0.4444444444444444,
                            "#bd3786"
                          ],
                          [
                            0.5555555555555556,
                            "#d8576b"
                          ],
                          [
                            0.6666666666666666,
                            "#ed7953"
                          ],
                          [
                            0.7777777777777778,
                            "#fb9f3a"
                          ],
                          [
                            0.8888888888888888,
                            "#fdca26"
                          ],
                          [
                            1,
                            "#f0f921"
                          ]
                        ],
                        "type": "contour"
                      }
                    ],
                    "contourcarpet": [
                      {
                        "colorbar": {
                          "outlinewidth": 0,
                          "ticks": ""
                        },
                        "type": "contourcarpet"
                      }
                    ],
                    "heatmap": [
                      {
                        "colorbar": {
                          "outlinewidth": 0,
                          "ticks": ""
                        },
                        "colorscale": [
                          [
                            0,
                            "#0d0887"
                          ],
                          [
                            0.1111111111111111,
                            "#46039f"
                          ],
                          [
                            0.2222222222222222,
                            "#7201a8"
                          ],
                          [
                            0.3333333333333333,
                            "#9c179e"
                          ],
                          [
                            0.4444444444444444,
                            "#bd3786"
                          ],
                          [
                            0.5555555555555556,
                            "#d8576b"
                          ],
                          [
                            0.6666666666666666,
                            "#ed7953"
                          ],
                          [
                            0.7777777777777778,
                            "#fb9f3a"
                          ],
                          [
                            0.8888888888888888,
                            "#fdca26"
                          ],
                          [
                            1,
                            "#f0f921"
                          ]
                        ],
                        "type": "heatmap"
                      }
                    ],
                    "heatmapgl": [
                      {
                        "colorbar": {
                          "outlinewidth": 0,
                          "ticks": ""
                        },
                        "colorscale": [
                          [
                            0,
                            "#0d0887"
                          ],
                          [
                            0.1111111111111111,
                            "#46039f"
                          ],
                          [
                            0.2222222222222222,
                            "#7201a8"
                          ],
                          [
                            0.3333333333333333,
                            "#9c179e"
                          ],
                          [
                            0.4444444444444444,
                            "#bd3786"
                          ],
                          [
                            0.5555555555555556,
                            "#d8576b"
                          ],
                          [
                            0.6666666666666666,
                            "#ed7953"
                          ],
                          [
                            0.7777777777777778,
                            "#fb9f3a"
                          ],
                          [
                            0.8888888888888888,
                            "#fdca26"
                          ],
                          [
                            1,
                            "#f0f921"
                          ]
                        ],
                        "type": "heatmapgl"
                      }
                    ],
                    "histogram": [
                      {
                        "marker": {
                          "pattern": {
                            "fillmode": "overlay",
                            "size": 10,
                            "solidity": 0.2
                          }
                        },
                        "type": "histogram"
                      }
                    ],
                    "histogram2d": [
                      {
                        "colorbar": {
                          "outlinewidth": 0,
                          "ticks": ""
                        },
                        "colorscale": [
                          [
                            0,
                            "#0d0887"
                          ],
                          [
                            0.1111111111111111,
                            "#46039f"
                          ],
                          [
                            0.2222222222222222,
                            "#7201a8"
                          ],
                          [
                            0.3333333333333333,
                            "#9c179e"
                          ],
                          [
                            0.4444444444444444,
                            "#bd3786"
                          ],
                          [
                            0.5555555555555556,
                            "#d8576b"
                          ],
                          [
                            0.6666666666666666,
                            "#ed7953"
                          ],
                          [
                            0.7777777777777778,
                            "#fb9f3a"
                          ],
                          [
                            0.8888888888888888,
                            "#fdca26"
                          ],
                          [
                            1,
                            "#f0f921"
                          ]
                        ],
                        "type": "histogram2d"
                      }
                    ],
                    "histogram2dcontour": [
                      {
                        "colorbar": {
                          "outlinewidth": 0,
                          "ticks": ""
                        },
                        "colorscale": [
                          [
                            0,
                            "#0d0887"
                          ],
                          [
                            0.1111111111111111,
                            "#46039f"
                          ],
                          [
                            0.2222222222222222,
                            "#7201a8"
                          ],
                          [
                            0.3333333333333333,
                            "#9c179e"
                          ],
                          [
                            0.4444444444444444,
                            "#bd3786"
                          ],
                          [
                            0.5555555555555556,
                            "#d8576b"
                          ],
                          [
                            0.6666666666666666,
                            "#ed7953"
                          ],
                          [
                            0.7777777777777778,
                            "#fb9f3a"
                          ],
                          [
                            0.8888888888888888,
                            "#fdca26"
                          ],
                          [
                            1,
                            "#f0f921"
                          ]
                        ],
                        "type": "histogram2dcontour"
                      }
                    ],
                    "mesh3d": [
                      {
                        "colorbar": {
                          "outlinewidth": 0,
                          "ticks": ""
                        },
                        "type": "mesh3d"
                      }
                    ],
                    "parcoords": [
                      {
                        "line": {
                          "colorbar": {
                            "outlinewidth": 0,
                            "ticks": ""
                          }
                        },
                        "type": "parcoords"
                      }
                    ],
                    "pie": [
                      {
                        "automargin": true,
                        "type": "pie"
                      }
                    ],
                    "scatter": [
                      {
                        "fillpattern": {
                          "fillmode": "overlay",
                          "size": 10,
                          "solidity": 0.2
                        },
                        "type": "scatter"
                      }
                    ],
                    "scatter3d": [
                      {
                        "line": {
                          "colorbar": {
                            "outlinewidth": 0,
                            "ticks": ""
                          }
                        },
                        "marker": {
                          "colorbar": {
                            "outlinewidth": 0,
                            "ticks": ""
                          }
                        },
                        "type": "scatter3d"
                      }
                    ],
                    "scattercarpet": [
                      {
                        "marker": {
                          "colorbar": {
                            "outlinewidth": 0,
                            "ticks": ""
                          }
                        },
                        "type": "scattercarpet"
                      }
                    ],
                    "scattergeo": [
                      {
                        "marker": {
                          "colorbar": {
                            "outlinewidth": 0,
                            "ticks": ""
                          }
                        },
                        "type": "scattergeo"
                      }
                    ],
                    "scattergl": [
                      {
                        "marker": {
                          "colorbar": {
                            "outlinewidth": 0,
                            "ticks": ""
                          }
                        },
                        "type": "scattergl"
                      }
                    ],
                    "scattermapbox": [
                      {
                        "marker": {
                          "colorbar": {
                            "outlinewidth": 0,
                            "ticks": ""
                          }
                        },
                        "type": "scattermapbox"
                      }
                    ],
                    "scatterpolar": [
                      {
                        "marker": {
                          "colorbar": {
                            "outlinewidth": 0,
                            "ticks": ""
                          }
                        },
                        "type": "scatterpolar"
                      }
                    ],
                    "scatterpolargl": [
                      {
                        "marker": {
                          "colorbar": {
                            "outlinewidth": 0,
                            "ticks": ""
                          }
                        },
                        "type": "scatterpolargl"
                      }
                    ],
                    "scatterternary": [
                      {
                        "marker": {
                          "colorbar": {
                            "outlinewidth": 0,
                            "ticks": ""
                          }
                        },
                        "type": "scatterternary"
                      }
                    ],
                    "surface": [
                      {
                        "colorbar": {
                          "outlinewidth": 0,
                          "ticks": ""
                        },
                        "colorscale": [
                          [
                            0,
                            "#0d0887"
                          ],
                          [
                            0.1111111111111111,
                            "#46039f"
                          ],
                          [
                            0.2222222222222222,
                            "#7201a8"
                          ],
                          [
                            0.3333333333333333,
                            "#9c179e"
                          ],
                          [
                            0.4444444444444444,
                            "#bd3786"
                          ],
                          [
                            0.5555555555555556,
                            "#d8576b"
                          ],
                          [
                            0.6666666666666666,
                            "#ed7953"
                          ],
                          [
                            0.7777777777777778,
                            "#fb9f3a"
                          ],
                          [
                            0.8888888888888888,
                            "#fdca26"
                          ],
                          [
                            1,
                            "#f0f921"
                          ]
                        ],
                        "type": "surface"
                      }
                    ],
                    "table": [
                      {
                        "cells": {
                          "fill": {
                            "color": "#EBF0F8"
                          },
                          "line": {
                            "color": "white"
                          }
                        },
                        "header": {
                          "fill": {
                            "color": "#C8D4E3"
                          },
                          "line": {
                            "color": "white"
                          }
                        },
                        "type": "table"
                      }
                    ]
                  },
                  "layout": {
                    "annotationdefaults": {
                      "arrowcolor": "#2a3f5f",
                      "arrowhead": 0,
                      "arrowwidth": 1
                    },
                    "autotypenumbers": "strict",
                    "coloraxis": {
                      "colorbar": {
                        "outlinewidth": 0,
                        "ticks": ""
                      }
                    },
                    "colorscale": {
                      "diverging": [
                        [
                          0,
                          "#8e0152"
                        ],
                        [
                          0.1,
                          "#c51b7d"
                        ],
                        [
                          0.2,
                          "#de77ae"
                        ],
                        [
                          0.3,
                          "#f1b6da"
                        ],
                        [
                          0.4,
                          "#fde0ef"
                        ],
                        [
                          0.5,
                          "#f7f7f7"
                        ],
                        [
                          0.6,
                          "#e6f5d0"
                        ],
                        [
                          0.7,
                          "#b8e186"
                        ],
                        [
                          0.8,
                          "#7fbc41"
                        ],
                        [
                          0.9,
                          "#4d9221"
                        ],
                        [
                          1,
                          "#276419"
                        ]
                      ],
                      "sequential": [
                        [
                          0,
                          "#0d0887"
                        ],
                        [
                          0.1111111111111111,
                          "#46039f"
                        ],
                        [
                          0.2222222222222222,
                          "#7201a8"
                        ],
                        [
                          0.3333333333333333,
                          "#9c179e"
                        ],
                        [
                          0.4444444444444444,
                          "#bd3786"
                        ],
                        [
                          0.5555555555555556,
                          "#d8576b"
                        ],
                        [
                          0.6666666666666666,
                          "#ed7953"
                        ],
                        [
                          0.7777777777777778,
                          "#fb9f3a"
                        ],
                        [
                          0.8888888888888888,
                          "#fdca26"
                        ],
                        [
                          1,
                          "#f0f921"
                        ]
                      ],
                      "sequentialminus": [
                        [
                          0,
                          "#0d0887"
                        ],
                        [
                          0.1111111111111111,
                          "#46039f"
                        ],
                        [
                          0.2222222222222222,
                          "#7201a8"
                        ],
                        [
                          0.3333333333333333,
                          "#9c179e"
                        ],
                        [
                          0.4444444444444444,
                          "#bd3786"
                        ],
                        [
                          0.5555555555555556,
                          "#d8576b"
                        ],
                        [
                          0.6666666666666666,
                          "#ed7953"
                        ],
                        [
                          0.7777777777777778,
                          "#fb9f3a"
                        ],
                        [
                          0.8888888888888888,
                          "#fdca26"
                        ],
                        [
                          1,
                          "#f0f921"
                        ]
                      ]
                    },
                    "colorway": [
                      "#636efa",
                      "#EF553B",
                      "#00cc96",
                      "#ab63fa",
                      "#FFA15A",
                      "#19d3f3",
                      "#FF6692",
                      "#B6E880",
                      "#FF97FF",
                      "#FECB52"
                    ],
                    "font": {
                      "color": "#2a3f5f"
                    },
                    "geo": {
                      "bgcolor": "white",
                      "lakecolor": "white",
                      "landcolor": "#E5ECF6",
                      "showlakes": true,
                      "showland": true,
                      "subunitcolor": "white"
                    },
                    "hoverlabel": {
                      "align": "left"
                    },
                    "hovermode": "closest",
                    "mapbox": {
                      "style": "light"
                    },
                    "paper_bgcolor": "white",
                    "plot_bgcolor": "#E5ECF6",
                    "polar": {
                      "angularaxis": {
                        "gridcolor": "white",
                        "linecolor": "white",
                        "ticks": ""
                      },
                      "bgcolor": "#E5ECF6",
                      "radialaxis": {
                        "gridcolor": "white",
                        "linecolor": "white",
                        "ticks": ""
                      }
                    },
                    "scene": {
                      "xaxis": {
                        "backgroundcolor": "#E5ECF6",
                        "gridcolor": "white",
                        "gridwidth": 2,
                        "linecolor": "white",
                        "showbackground": true,
                        "ticks": "",
                        "zerolinecolor": "white"
                      },
                      "yaxis": {
                        "backgroundcolor": "#E5ECF6",
                        "gridcolor": "white",
                        "gridwidth": 2,
                        "linecolor": "white",
                        "showbackground": true,
                        "ticks": "",
                        "zerolinecolor": "white"
                      },
                      "zaxis": {
                        "backgroundcolor": "#E5ECF6",
                        "gridcolor": "white",
                        "gridwidth": 2,
                        "linecolor": "white",
                        "showbackground": true,
                        "ticks": "",
                        "zerolinecolor": "white"
                      }
                    },
                    "shapedefaults": {
                      "line": {
                        "color": "#2a3f5f"
                      }
                    },
                    "ternary": {
                      "aaxis": {
                        "gridcolor": "white",
                        "linecolor": "white",
                        "ticks": ""
                      },
                      "baxis": {
                        "gridcolor": "white",
                        "linecolor": "white",
                        "ticks": ""
                      },
                      "bgcolor": "#E5ECF6",
                      "caxis": {
                        "gridcolor": "white",
                        "linecolor": "white",
                        "ticks": ""
                      }
                    },
                    "title": {
                      "x": 0.05
                    },
                    "xaxis": {
                      "automargin": true,
                      "gridcolor": "white",
                      "linecolor": "white",
                      "ticks": "",
                      "title": {
                        "standoff": 15
                      },
                      "zerolinecolor": "white",
                      "zerolinewidth": 2
                    },
                    "yaxis": {
                      "automargin": true,
                      "gridcolor": "white",
                      "linecolor": "white",
                      "ticks": "",
                      "title": {
                        "standoff": 15
                      },
                      "zerolinecolor": "white",
                      "zerolinewidth": 2
                    }
                  }
                },
                "title": {
                  "text": "Top 10 Orders by Total Sale"
                },
                "xaxis": {
                  "anchor": "y",
                  "domain": [
                    0,
                    1
                  ],
                  "tickmode": "array",
                  "ticktext": [
                    "440",
                    "2075",
                    "1957",
                    "330",
                    "2675",
                    "4482",
                    "1274",
                    "2188",
                    "3473",
                    "3583"
                  ],
                  "tickvals": [
                    440,
                    2075,
                    1957,
                    330,
                    2675,
                    4482,
                    1274,
                    2188,
                    3473,
                    3583
                  ],
                  "title": {
                    "text": "Order ID"
                  }
                },
                "yaxis": {
                  "anchor": "x",
                  "domain": [
                    0,
                    1
                  ],
                  "title": {
                    "text": "Total Order Price"
                  }
                }
              }
            }
          },
          "metadata": {},
          "output_type": "display_data"
        }
      ],
      "source": [
        "import plotly.express as px\n",
        "\n",
        "# Visualization for top 10 orders that spent the most money\n",
        "fig_top_orders = px.bar(top_orders_df, x='order_id', y='total_order_price',\n",
        "                       title='Top 10 Orders by Total Sale',\n",
        "                       labels={'order_id': 'Order ID', 'total_order_price': 'Total Order Price'},\n",
        "                       color='total_order_price', color_continuous_scale='Viridis')\n",
        "\n",
        "# Customize x-axis tick labels to show only for the top orders\n",
        "fig_top_orders.update_layout(\n",
        "    xaxis=dict(\n",
        "        tickmode='array',\n",
        "        tickvals=top_orders_df['order_id'],\n",
        "        ticktext=[str(order_id) for order_id in top_orders_df['order_id']]\n",
        "    )\n",
        ")\n",
        "\n",
        "fig_top_orders.show()\n"
      ]
    },
    {
      "cell_type": "code",
      "execution_count": 28,
      "metadata": {
        "colab": {
          "base_uri": "https://localhost:8080/",
          "height": 517
        },
        "id": "2MlOzf1NXknN",
        "outputId": "66c37dde-1789-4b47-fcc6-f915140908ce"
      },
      "outputs": [
        {
          "data": {
            "application/vnd.plotly.v1+json": {
              "config": {
                "plotlyServerURL": "https://plot.ly"
              },
              "data": [
                {
                  "alignmentgroup": "True",
                  "hovertemplate": "Category=%{x}<br>Number of Items=%{marker.color}<extra></extra>",
                  "legendgroup": "",
                  "marker": {
                    "color": [
                      2,
                      2,
                      8,
                      2
                    ],
                    "coloraxis": "coloraxis",
                    "pattern": {
                      "shape": ""
                    }
                  },
                  "name": "",
                  "offsetgroup": "",
                  "orientation": "v",
                  "showlegend": false,
                  "textposition": "auto",
                  "type": "bar",
                  "x": [
                    "American",
                    "Asian",
                    "Italian",
                    "Mexican"
                  ],
                  "xaxis": "x",
                  "y": [
                    2,
                    2,
                    8,
                    2
                  ],
                  "yaxis": "y"
                }
              ],
              "layout": {
                "bargap": 0.3,
                "barmode": "relative",
                "coloraxis": {
                  "colorbar": {
                    "title": {
                      "text": "Number of Items"
                    }
                  },
                  "colorscale": [
                    [
                      0,
                      "rgb(150,0,90)"
                    ],
                    [
                      0.125,
                      "rgb(0,0,200)"
                    ],
                    [
                      0.25,
                      "rgb(0,25,255)"
                    ],
                    [
                      0.375,
                      "rgb(0,152,255)"
                    ],
                    [
                      0.5,
                      "rgb(44,255,150)"
                    ],
                    [
                      0.625,
                      "rgb(151,255,0)"
                    ],
                    [
                      0.75,
                      "rgb(255,234,0)"
                    ],
                    [
                      0.875,
                      "rgb(255,111,0)"
                    ],
                    [
                      1,
                      "rgb(255,0,0)"
                    ]
                  ]
                },
                "height": 500,
                "legend": {
                  "tracegroupgap": 0
                },
                "template": {
                  "data": {
                    "bar": [
                      {
                        "error_x": {
                          "color": "#2a3f5f"
                        },
                        "error_y": {
                          "color": "#2a3f5f"
                        },
                        "marker": {
                          "line": {
                            "color": "#E5ECF6",
                            "width": 0.5
                          },
                          "pattern": {
                            "fillmode": "overlay",
                            "size": 10,
                            "solidity": 0.2
                          }
                        },
                        "type": "bar"
                      }
                    ],
                    "barpolar": [
                      {
                        "marker": {
                          "line": {
                            "color": "#E5ECF6",
                            "width": 0.5
                          },
                          "pattern": {
                            "fillmode": "overlay",
                            "size": 10,
                            "solidity": 0.2
                          }
                        },
                        "type": "barpolar"
                      }
                    ],
                    "carpet": [
                      {
                        "aaxis": {
                          "endlinecolor": "#2a3f5f",
                          "gridcolor": "white",
                          "linecolor": "white",
                          "minorgridcolor": "white",
                          "startlinecolor": "#2a3f5f"
                        },
                        "baxis": {
                          "endlinecolor": "#2a3f5f",
                          "gridcolor": "white",
                          "linecolor": "white",
                          "minorgridcolor": "white",
                          "startlinecolor": "#2a3f5f"
                        },
                        "type": "carpet"
                      }
                    ],
                    "choropleth": [
                      {
                        "colorbar": {
                          "outlinewidth": 0,
                          "ticks": ""
                        },
                        "type": "choropleth"
                      }
                    ],
                    "contour": [
                      {
                        "colorbar": {
                          "outlinewidth": 0,
                          "ticks": ""
                        },
                        "colorscale": [
                          [
                            0,
                            "#0d0887"
                          ],
                          [
                            0.1111111111111111,
                            "#46039f"
                          ],
                          [
                            0.2222222222222222,
                            "#7201a8"
                          ],
                          [
                            0.3333333333333333,
                            "#9c179e"
                          ],
                          [
                            0.4444444444444444,
                            "#bd3786"
                          ],
                          [
                            0.5555555555555556,
                            "#d8576b"
                          ],
                          [
                            0.6666666666666666,
                            "#ed7953"
                          ],
                          [
                            0.7777777777777778,
                            "#fb9f3a"
                          ],
                          [
                            0.8888888888888888,
                            "#fdca26"
                          ],
                          [
                            1,
                            "#f0f921"
                          ]
                        ],
                        "type": "contour"
                      }
                    ],
                    "contourcarpet": [
                      {
                        "colorbar": {
                          "outlinewidth": 0,
                          "ticks": ""
                        },
                        "type": "contourcarpet"
                      }
                    ],
                    "heatmap": [
                      {
                        "colorbar": {
                          "outlinewidth": 0,
                          "ticks": ""
                        },
                        "colorscale": [
                          [
                            0,
                            "#0d0887"
                          ],
                          [
                            0.1111111111111111,
                            "#46039f"
                          ],
                          [
                            0.2222222222222222,
                            "#7201a8"
                          ],
                          [
                            0.3333333333333333,
                            "#9c179e"
                          ],
                          [
                            0.4444444444444444,
                            "#bd3786"
                          ],
                          [
                            0.5555555555555556,
                            "#d8576b"
                          ],
                          [
                            0.6666666666666666,
                            "#ed7953"
                          ],
                          [
                            0.7777777777777778,
                            "#fb9f3a"
                          ],
                          [
                            0.8888888888888888,
                            "#fdca26"
                          ],
                          [
                            1,
                            "#f0f921"
                          ]
                        ],
                        "type": "heatmap"
                      }
                    ],
                    "heatmapgl": [
                      {
                        "colorbar": {
                          "outlinewidth": 0,
                          "ticks": ""
                        },
                        "colorscale": [
                          [
                            0,
                            "#0d0887"
                          ],
                          [
                            0.1111111111111111,
                            "#46039f"
                          ],
                          [
                            0.2222222222222222,
                            "#7201a8"
                          ],
                          [
                            0.3333333333333333,
                            "#9c179e"
                          ],
                          [
                            0.4444444444444444,
                            "#bd3786"
                          ],
                          [
                            0.5555555555555556,
                            "#d8576b"
                          ],
                          [
                            0.6666666666666666,
                            "#ed7953"
                          ],
                          [
                            0.7777777777777778,
                            "#fb9f3a"
                          ],
                          [
                            0.8888888888888888,
                            "#fdca26"
                          ],
                          [
                            1,
                            "#f0f921"
                          ]
                        ],
                        "type": "heatmapgl"
                      }
                    ],
                    "histogram": [
                      {
                        "marker": {
                          "pattern": {
                            "fillmode": "overlay",
                            "size": 10,
                            "solidity": 0.2
                          }
                        },
                        "type": "histogram"
                      }
                    ],
                    "histogram2d": [
                      {
                        "colorbar": {
                          "outlinewidth": 0,
                          "ticks": ""
                        },
                        "colorscale": [
                          [
                            0,
                            "#0d0887"
                          ],
                          [
                            0.1111111111111111,
                            "#46039f"
                          ],
                          [
                            0.2222222222222222,
                            "#7201a8"
                          ],
                          [
                            0.3333333333333333,
                            "#9c179e"
                          ],
                          [
                            0.4444444444444444,
                            "#bd3786"
                          ],
                          [
                            0.5555555555555556,
                            "#d8576b"
                          ],
                          [
                            0.6666666666666666,
                            "#ed7953"
                          ],
                          [
                            0.7777777777777778,
                            "#fb9f3a"
                          ],
                          [
                            0.8888888888888888,
                            "#fdca26"
                          ],
                          [
                            1,
                            "#f0f921"
                          ]
                        ],
                        "type": "histogram2d"
                      }
                    ],
                    "histogram2dcontour": [
                      {
                        "colorbar": {
                          "outlinewidth": 0,
                          "ticks": ""
                        },
                        "colorscale": [
                          [
                            0,
                            "#0d0887"
                          ],
                          [
                            0.1111111111111111,
                            "#46039f"
                          ],
                          [
                            0.2222222222222222,
                            "#7201a8"
                          ],
                          [
                            0.3333333333333333,
                            "#9c179e"
                          ],
                          [
                            0.4444444444444444,
                            "#bd3786"
                          ],
                          [
                            0.5555555555555556,
                            "#d8576b"
                          ],
                          [
                            0.6666666666666666,
                            "#ed7953"
                          ],
                          [
                            0.7777777777777778,
                            "#fb9f3a"
                          ],
                          [
                            0.8888888888888888,
                            "#fdca26"
                          ],
                          [
                            1,
                            "#f0f921"
                          ]
                        ],
                        "type": "histogram2dcontour"
                      }
                    ],
                    "mesh3d": [
                      {
                        "colorbar": {
                          "outlinewidth": 0,
                          "ticks": ""
                        },
                        "type": "mesh3d"
                      }
                    ],
                    "parcoords": [
                      {
                        "line": {
                          "colorbar": {
                            "outlinewidth": 0,
                            "ticks": ""
                          }
                        },
                        "type": "parcoords"
                      }
                    ],
                    "pie": [
                      {
                        "automargin": true,
                        "type": "pie"
                      }
                    ],
                    "scatter": [
                      {
                        "fillpattern": {
                          "fillmode": "overlay",
                          "size": 10,
                          "solidity": 0.2
                        },
                        "type": "scatter"
                      }
                    ],
                    "scatter3d": [
                      {
                        "line": {
                          "colorbar": {
                            "outlinewidth": 0,
                            "ticks": ""
                          }
                        },
                        "marker": {
                          "colorbar": {
                            "outlinewidth": 0,
                            "ticks": ""
                          }
                        },
                        "type": "scatter3d"
                      }
                    ],
                    "scattercarpet": [
                      {
                        "marker": {
                          "colorbar": {
                            "outlinewidth": 0,
                            "ticks": ""
                          }
                        },
                        "type": "scattercarpet"
                      }
                    ],
                    "scattergeo": [
                      {
                        "marker": {
                          "colorbar": {
                            "outlinewidth": 0,
                            "ticks": ""
                          }
                        },
                        "type": "scattergeo"
                      }
                    ],
                    "scattergl": [
                      {
                        "marker": {
                          "colorbar": {
                            "outlinewidth": 0,
                            "ticks": ""
                          }
                        },
                        "type": "scattergl"
                      }
                    ],
                    "scattermapbox": [
                      {
                        "marker": {
                          "colorbar": {
                            "outlinewidth": 0,
                            "ticks": ""
                          }
                        },
                        "type": "scattermapbox"
                      }
                    ],
                    "scatterpolar": [
                      {
                        "marker": {
                          "colorbar": {
                            "outlinewidth": 0,
                            "ticks": ""
                          }
                        },
                        "type": "scatterpolar"
                      }
                    ],
                    "scatterpolargl": [
                      {
                        "marker": {
                          "colorbar": {
                            "outlinewidth": 0,
                            "ticks": ""
                          }
                        },
                        "type": "scatterpolargl"
                      }
                    ],
                    "scatterternary": [
                      {
                        "marker": {
                          "colorbar": {
                            "outlinewidth": 0,
                            "ticks": ""
                          }
                        },
                        "type": "scatterternary"
                      }
                    ],
                    "surface": [
                      {
                        "colorbar": {
                          "outlinewidth": 0,
                          "ticks": ""
                        },
                        "colorscale": [
                          [
                            0,
                            "#0d0887"
                          ],
                          [
                            0.1111111111111111,
                            "#46039f"
                          ],
                          [
                            0.2222222222222222,
                            "#7201a8"
                          ],
                          [
                            0.3333333333333333,
                            "#9c179e"
                          ],
                          [
                            0.4444444444444444,
                            "#bd3786"
                          ],
                          [
                            0.5555555555555556,
                            "#d8576b"
                          ],
                          [
                            0.6666666666666666,
                            "#ed7953"
                          ],
                          [
                            0.7777777777777778,
                            "#fb9f3a"
                          ],
                          [
                            0.8888888888888888,
                            "#fdca26"
                          ],
                          [
                            1,
                            "#f0f921"
                          ]
                        ],
                        "type": "surface"
                      }
                    ],
                    "table": [
                      {
                        "cells": {
                          "fill": {
                            "color": "#EBF0F8"
                          },
                          "line": {
                            "color": "white"
                          }
                        },
                        "header": {
                          "fill": {
                            "color": "#C8D4E3"
                          },
                          "line": {
                            "color": "white"
                          }
                        },
                        "type": "table"
                      }
                    ]
                  },
                  "layout": {
                    "annotationdefaults": {
                      "arrowcolor": "#2a3f5f",
                      "arrowhead": 0,
                      "arrowwidth": 1
                    },
                    "autotypenumbers": "strict",
                    "coloraxis": {
                      "colorbar": {
                        "outlinewidth": 0,
                        "ticks": ""
                      }
                    },
                    "colorscale": {
                      "diverging": [
                        [
                          0,
                          "#8e0152"
                        ],
                        [
                          0.1,
                          "#c51b7d"
                        ],
                        [
                          0.2,
                          "#de77ae"
                        ],
                        [
                          0.3,
                          "#f1b6da"
                        ],
                        [
                          0.4,
                          "#fde0ef"
                        ],
                        [
                          0.5,
                          "#f7f7f7"
                        ],
                        [
                          0.6,
                          "#e6f5d0"
                        ],
                        [
                          0.7,
                          "#b8e186"
                        ],
                        [
                          0.8,
                          "#7fbc41"
                        ],
                        [
                          0.9,
                          "#4d9221"
                        ],
                        [
                          1,
                          "#276419"
                        ]
                      ],
                      "sequential": [
                        [
                          0,
                          "#0d0887"
                        ],
                        [
                          0.1111111111111111,
                          "#46039f"
                        ],
                        [
                          0.2222222222222222,
                          "#7201a8"
                        ],
                        [
                          0.3333333333333333,
                          "#9c179e"
                        ],
                        [
                          0.4444444444444444,
                          "#bd3786"
                        ],
                        [
                          0.5555555555555556,
                          "#d8576b"
                        ],
                        [
                          0.6666666666666666,
                          "#ed7953"
                        ],
                        [
                          0.7777777777777778,
                          "#fb9f3a"
                        ],
                        [
                          0.8888888888888888,
                          "#fdca26"
                        ],
                        [
                          1,
                          "#f0f921"
                        ]
                      ],
                      "sequentialminus": [
                        [
                          0,
                          "#0d0887"
                        ],
                        [
                          0.1111111111111111,
                          "#46039f"
                        ],
                        [
                          0.2222222222222222,
                          "#7201a8"
                        ],
                        [
                          0.3333333333333333,
                          "#9c179e"
                        ],
                        [
                          0.4444444444444444,
                          "#bd3786"
                        ],
                        [
                          0.5555555555555556,
                          "#d8576b"
                        ],
                        [
                          0.6666666666666666,
                          "#ed7953"
                        ],
                        [
                          0.7777777777777778,
                          "#fb9f3a"
                        ],
                        [
                          0.8888888888888888,
                          "#fdca26"
                        ],
                        [
                          1,
                          "#f0f921"
                        ]
                      ]
                    },
                    "colorway": [
                      "#636efa",
                      "#EF553B",
                      "#00cc96",
                      "#ab63fa",
                      "#FFA15A",
                      "#19d3f3",
                      "#FF6692",
                      "#B6E880",
                      "#FF97FF",
                      "#FECB52"
                    ],
                    "font": {
                      "color": "#2a3f5f"
                    },
                    "geo": {
                      "bgcolor": "white",
                      "lakecolor": "white",
                      "landcolor": "#E5ECF6",
                      "showlakes": true,
                      "showland": true,
                      "subunitcolor": "white"
                    },
                    "hoverlabel": {
                      "align": "left"
                    },
                    "hovermode": "closest",
                    "mapbox": {
                      "style": "light"
                    },
                    "paper_bgcolor": "white",
                    "plot_bgcolor": "#E5ECF6",
                    "polar": {
                      "angularaxis": {
                        "gridcolor": "white",
                        "linecolor": "white",
                        "ticks": ""
                      },
                      "bgcolor": "#E5ECF6",
                      "radialaxis": {
                        "gridcolor": "white",
                        "linecolor": "white",
                        "ticks": ""
                      }
                    },
                    "scene": {
                      "xaxis": {
                        "backgroundcolor": "#E5ECF6",
                        "gridcolor": "white",
                        "gridwidth": 2,
                        "linecolor": "white",
                        "showbackground": true,
                        "ticks": "",
                        "zerolinecolor": "white"
                      },
                      "yaxis": {
                        "backgroundcolor": "#E5ECF6",
                        "gridcolor": "white",
                        "gridwidth": 2,
                        "linecolor": "white",
                        "showbackground": true,
                        "ticks": "",
                        "zerolinecolor": "white"
                      },
                      "zaxis": {
                        "backgroundcolor": "#E5ECF6",
                        "gridcolor": "white",
                        "gridwidth": 2,
                        "linecolor": "white",
                        "showbackground": true,
                        "ticks": "",
                        "zerolinecolor": "white"
                      }
                    },
                    "shapedefaults": {
                      "line": {
                        "color": "#2a3f5f"
                      }
                    },
                    "ternary": {
                      "aaxis": {
                        "gridcolor": "white",
                        "linecolor": "white",
                        "ticks": ""
                      },
                      "baxis": {
                        "gridcolor": "white",
                        "linecolor": "white",
                        "ticks": ""
                      },
                      "bgcolor": "#E5ECF6",
                      "caxis": {
                        "gridcolor": "white",
                        "linecolor": "white",
                        "ticks": ""
                      }
                    },
                    "title": {
                      "x": 0.05
                    },
                    "xaxis": {
                      "automargin": true,
                      "gridcolor": "white",
                      "linecolor": "white",
                      "ticks": "",
                      "title": {
                        "standoff": 15
                      },
                      "zerolinecolor": "white",
                      "zerolinewidth": 2
                    },
                    "yaxis": {
                      "automargin": true,
                      "gridcolor": "white",
                      "linecolor": "white",
                      "ticks": "",
                      "title": {
                        "standoff": 15
                      },
                      "zerolinecolor": "white",
                      "zerolinewidth": 2
                    }
                  }
                },
                "title": {
                  "text": "Highest Spend Order (#440) - Items per Category"
                },
                "width": 600,
                "xaxis": {
                  "anchor": "y",
                  "domain": [
                    0,
                    1
                  ],
                  "tickmode": "array",
                  "ticktext": [
                    "American",
                    "Asian",
                    "Italian",
                    "Mexican"
                  ],
                  "tickvals": [
                    "American",
                    "Asian",
                    "Italian",
                    "Mexican"
                  ],
                  "title": {
                    "text": "Category"
                  }
                },
                "yaxis": {
                  "anchor": "x",
                  "domain": [
                    0,
                    1
                  ],
                  "title": {
                    "text": "Number of Items"
                  }
                }
              }
            }
          },
          "metadata": {},
          "output_type": "display_data"
        }
      ],
      "source": [
        "# Visualization for the highest spend order\n",
        "fig_highest_spend_order = px.bar(highest_spend_order_df, x='category', y='num_items',\n",
        "                                title='Highest Spend Order (#440) - Items per Category',\n",
        "                                labels={'category': 'Category', 'num_items': 'Number of Items'},\n",
        "                                color='num_items', color_continuous_scale='Rainbow')\n",
        "\n",
        "# Customize layout to adjust figure size and bar thickness\n",
        "fig_highest_spend_order.update_layout(\n",
        "    width=600,  # Set the width of the figure\n",
        "    height=500, # Set the height of the figure\n",
        "    xaxis=dict(\n",
        "        tickmode='array',\n",
        "        tickvals=highest_spend_order_df['category'],\n",
        "        ticktext=[str(category) for category in highest_spend_order_df['category']]\n",
        "    ),\n",
        "    bargap=0.3  # Adjust the gap between bars; lower values mean thicker bars\n",
        ")\n",
        "\n",
        "fig_highest_spend_order.show()"
      ]
    },
    {
      "cell_type": "code",
      "execution_count": 29,
      "metadata": {
        "colab": {
          "base_uri": "https://localhost:8080/",
          "height": 517
        },
        "id": "x8r0yHO_V3I_",
        "outputId": "8877d1e3-a305-4172-95ea-808ced44493a"
      },
      "outputs": [
        {
          "data": {
            "application/vnd.plotly.v1+json": {
              "config": {
                "plotlyServerURL": "https://plot.ly"
              },
              "data": [
                {
                  "alignmentgroup": "True",
                  "hovertemplate": "category=American<br>Order ID=%{x}<br>Number of Items=%{y}<extra></extra>",
                  "legendgroup": "American",
                  "marker": {
                    "color": "#636efa",
                    "pattern": {
                      "shape": ""
                    }
                  },
                  "name": "American",
                  "offsetgroup": "American",
                  "orientation": "v",
                  "showlegend": true,
                  "textposition": "auto",
                  "type": "bar",
                  "x": [
                    330,
                    440,
                    1957,
                    2075,
                    2675
                  ],
                  "xaxis": "x",
                  "y": [
                    1,
                    2,
                    3,
                    1,
                    3
                  ],
                  "yaxis": "y"
                },
                {
                  "alignmentgroup": "True",
                  "hovertemplate": "category=Asian<br>Order ID=%{x}<br>Number of Items=%{y}<extra></extra>",
                  "legendgroup": "Asian",
                  "marker": {
                    "color": "#EF553B",
                    "pattern": {
                      "shape": ""
                    }
                  },
                  "name": "Asian",
                  "offsetgroup": "Asian",
                  "orientation": "v",
                  "showlegend": true,
                  "textposition": "auto",
                  "type": "bar",
                  "x": [
                    330,
                    440,
                    1957,
                    2075,
                    2675
                  ],
                  "xaxis": "x",
                  "y": [
                    6,
                    2,
                    3,
                    3,
                    3
                  ],
                  "yaxis": "y"
                },
                {
                  "alignmentgroup": "True",
                  "hovertemplate": "category=Italian<br>Order ID=%{x}<br>Number of Items=%{y}<extra></extra>",
                  "legendgroup": "Italian",
                  "marker": {
                    "color": "#00cc96",
                    "pattern": {
                      "shape": ""
                    }
                  },
                  "name": "Italian",
                  "offsetgroup": "Italian",
                  "orientation": "v",
                  "showlegend": true,
                  "textposition": "auto",
                  "type": "bar",
                  "x": [
                    330,
                    440,
                    1957,
                    2075,
                    2675
                  ],
                  "xaxis": "x",
                  "y": [
                    3,
                    8,
                    5,
                    6,
                    4
                  ],
                  "yaxis": "y"
                },
                {
                  "alignmentgroup": "True",
                  "hovertemplate": "category=Mexican<br>Order ID=%{x}<br>Number of Items=%{y}<extra></extra>",
                  "legendgroup": "Mexican",
                  "marker": {
                    "color": "#ab63fa",
                    "pattern": {
                      "shape": ""
                    }
                  },
                  "name": "Mexican",
                  "offsetgroup": "Mexican",
                  "orientation": "v",
                  "showlegend": true,
                  "textposition": "auto",
                  "type": "bar",
                  "x": [
                    330,
                    440,
                    1957,
                    2075,
                    2675
                  ],
                  "xaxis": "x",
                  "y": [
                    4,
                    2,
                    3,
                    3,
                    4
                  ],
                  "yaxis": "y"
                }
              ],
              "layout": {
                "bargap": 0.1,
                "barmode": "relative",
                "height": 500,
                "legend": {
                  "title": {
                    "text": "category"
                  },
                  "tracegroupgap": 0
                },
                "template": {
                  "data": {
                    "bar": [
                      {
                        "error_x": {
                          "color": "#2a3f5f"
                        },
                        "error_y": {
                          "color": "#2a3f5f"
                        },
                        "marker": {
                          "line": {
                            "color": "#E5ECF6",
                            "width": 0.5
                          },
                          "pattern": {
                            "fillmode": "overlay",
                            "size": 10,
                            "solidity": 0.2
                          }
                        },
                        "type": "bar"
                      }
                    ],
                    "barpolar": [
                      {
                        "marker": {
                          "line": {
                            "color": "#E5ECF6",
                            "width": 0.5
                          },
                          "pattern": {
                            "fillmode": "overlay",
                            "size": 10,
                            "solidity": 0.2
                          }
                        },
                        "type": "barpolar"
                      }
                    ],
                    "carpet": [
                      {
                        "aaxis": {
                          "endlinecolor": "#2a3f5f",
                          "gridcolor": "white",
                          "linecolor": "white",
                          "minorgridcolor": "white",
                          "startlinecolor": "#2a3f5f"
                        },
                        "baxis": {
                          "endlinecolor": "#2a3f5f",
                          "gridcolor": "white",
                          "linecolor": "white",
                          "minorgridcolor": "white",
                          "startlinecolor": "#2a3f5f"
                        },
                        "type": "carpet"
                      }
                    ],
                    "choropleth": [
                      {
                        "colorbar": {
                          "outlinewidth": 0,
                          "ticks": ""
                        },
                        "type": "choropleth"
                      }
                    ],
                    "contour": [
                      {
                        "colorbar": {
                          "outlinewidth": 0,
                          "ticks": ""
                        },
                        "colorscale": [
                          [
                            0,
                            "#0d0887"
                          ],
                          [
                            0.1111111111111111,
                            "#46039f"
                          ],
                          [
                            0.2222222222222222,
                            "#7201a8"
                          ],
                          [
                            0.3333333333333333,
                            "#9c179e"
                          ],
                          [
                            0.4444444444444444,
                            "#bd3786"
                          ],
                          [
                            0.5555555555555556,
                            "#d8576b"
                          ],
                          [
                            0.6666666666666666,
                            "#ed7953"
                          ],
                          [
                            0.7777777777777778,
                            "#fb9f3a"
                          ],
                          [
                            0.8888888888888888,
                            "#fdca26"
                          ],
                          [
                            1,
                            "#f0f921"
                          ]
                        ],
                        "type": "contour"
                      }
                    ],
                    "contourcarpet": [
                      {
                        "colorbar": {
                          "outlinewidth": 0,
                          "ticks": ""
                        },
                        "type": "contourcarpet"
                      }
                    ],
                    "heatmap": [
                      {
                        "colorbar": {
                          "outlinewidth": 0,
                          "ticks": ""
                        },
                        "colorscale": [
                          [
                            0,
                            "#0d0887"
                          ],
                          [
                            0.1111111111111111,
                            "#46039f"
                          ],
                          [
                            0.2222222222222222,
                            "#7201a8"
                          ],
                          [
                            0.3333333333333333,
                            "#9c179e"
                          ],
                          [
                            0.4444444444444444,
                            "#bd3786"
                          ],
                          [
                            0.5555555555555556,
                            "#d8576b"
                          ],
                          [
                            0.6666666666666666,
                            "#ed7953"
                          ],
                          [
                            0.7777777777777778,
                            "#fb9f3a"
                          ],
                          [
                            0.8888888888888888,
                            "#fdca26"
                          ],
                          [
                            1,
                            "#f0f921"
                          ]
                        ],
                        "type": "heatmap"
                      }
                    ],
                    "heatmapgl": [
                      {
                        "colorbar": {
                          "outlinewidth": 0,
                          "ticks": ""
                        },
                        "colorscale": [
                          [
                            0,
                            "#0d0887"
                          ],
                          [
                            0.1111111111111111,
                            "#46039f"
                          ],
                          [
                            0.2222222222222222,
                            "#7201a8"
                          ],
                          [
                            0.3333333333333333,
                            "#9c179e"
                          ],
                          [
                            0.4444444444444444,
                            "#bd3786"
                          ],
                          [
                            0.5555555555555556,
                            "#d8576b"
                          ],
                          [
                            0.6666666666666666,
                            "#ed7953"
                          ],
                          [
                            0.7777777777777778,
                            "#fb9f3a"
                          ],
                          [
                            0.8888888888888888,
                            "#fdca26"
                          ],
                          [
                            1,
                            "#f0f921"
                          ]
                        ],
                        "type": "heatmapgl"
                      }
                    ],
                    "histogram": [
                      {
                        "marker": {
                          "pattern": {
                            "fillmode": "overlay",
                            "size": 10,
                            "solidity": 0.2
                          }
                        },
                        "type": "histogram"
                      }
                    ],
                    "histogram2d": [
                      {
                        "colorbar": {
                          "outlinewidth": 0,
                          "ticks": ""
                        },
                        "colorscale": [
                          [
                            0,
                            "#0d0887"
                          ],
                          [
                            0.1111111111111111,
                            "#46039f"
                          ],
                          [
                            0.2222222222222222,
                            "#7201a8"
                          ],
                          [
                            0.3333333333333333,
                            "#9c179e"
                          ],
                          [
                            0.4444444444444444,
                            "#bd3786"
                          ],
                          [
                            0.5555555555555556,
                            "#d8576b"
                          ],
                          [
                            0.6666666666666666,
                            "#ed7953"
                          ],
                          [
                            0.7777777777777778,
                            "#fb9f3a"
                          ],
                          [
                            0.8888888888888888,
                            "#fdca26"
                          ],
                          [
                            1,
                            "#f0f921"
                          ]
                        ],
                        "type": "histogram2d"
                      }
                    ],
                    "histogram2dcontour": [
                      {
                        "colorbar": {
                          "outlinewidth": 0,
                          "ticks": ""
                        },
                        "colorscale": [
                          [
                            0,
                            "#0d0887"
                          ],
                          [
                            0.1111111111111111,
                            "#46039f"
                          ],
                          [
                            0.2222222222222222,
                            "#7201a8"
                          ],
                          [
                            0.3333333333333333,
                            "#9c179e"
                          ],
                          [
                            0.4444444444444444,
                            "#bd3786"
                          ],
                          [
                            0.5555555555555556,
                            "#d8576b"
                          ],
                          [
                            0.6666666666666666,
                            "#ed7953"
                          ],
                          [
                            0.7777777777777778,
                            "#fb9f3a"
                          ],
                          [
                            0.8888888888888888,
                            "#fdca26"
                          ],
                          [
                            1,
                            "#f0f921"
                          ]
                        ],
                        "type": "histogram2dcontour"
                      }
                    ],
                    "mesh3d": [
                      {
                        "colorbar": {
                          "outlinewidth": 0,
                          "ticks": ""
                        },
                        "type": "mesh3d"
                      }
                    ],
                    "parcoords": [
                      {
                        "line": {
                          "colorbar": {
                            "outlinewidth": 0,
                            "ticks": ""
                          }
                        },
                        "type": "parcoords"
                      }
                    ],
                    "pie": [
                      {
                        "automargin": true,
                        "type": "pie"
                      }
                    ],
                    "scatter": [
                      {
                        "fillpattern": {
                          "fillmode": "overlay",
                          "size": 10,
                          "solidity": 0.2
                        },
                        "type": "scatter"
                      }
                    ],
                    "scatter3d": [
                      {
                        "line": {
                          "colorbar": {
                            "outlinewidth": 0,
                            "ticks": ""
                          }
                        },
                        "marker": {
                          "colorbar": {
                            "outlinewidth": 0,
                            "ticks": ""
                          }
                        },
                        "type": "scatter3d"
                      }
                    ],
                    "scattercarpet": [
                      {
                        "marker": {
                          "colorbar": {
                            "outlinewidth": 0,
                            "ticks": ""
                          }
                        },
                        "type": "scattercarpet"
                      }
                    ],
                    "scattergeo": [
                      {
                        "marker": {
                          "colorbar": {
                            "outlinewidth": 0,
                            "ticks": ""
                          }
                        },
                        "type": "scattergeo"
                      }
                    ],
                    "scattergl": [
                      {
                        "marker": {
                          "colorbar": {
                            "outlinewidth": 0,
                            "ticks": ""
                          }
                        },
                        "type": "scattergl"
                      }
                    ],
                    "scattermapbox": [
                      {
                        "marker": {
                          "colorbar": {
                            "outlinewidth": 0,
                            "ticks": ""
                          }
                        },
                        "type": "scattermapbox"
                      }
                    ],
                    "scatterpolar": [
                      {
                        "marker": {
                          "colorbar": {
                            "outlinewidth": 0,
                            "ticks": ""
                          }
                        },
                        "type": "scatterpolar"
                      }
                    ],
                    "scatterpolargl": [
                      {
                        "marker": {
                          "colorbar": {
                            "outlinewidth": 0,
                            "ticks": ""
                          }
                        },
                        "type": "scatterpolargl"
                      }
                    ],
                    "scatterternary": [
                      {
                        "marker": {
                          "colorbar": {
                            "outlinewidth": 0,
                            "ticks": ""
                          }
                        },
                        "type": "scatterternary"
                      }
                    ],
                    "surface": [
                      {
                        "colorbar": {
                          "outlinewidth": 0,
                          "ticks": ""
                        },
                        "colorscale": [
                          [
                            0,
                            "#0d0887"
                          ],
                          [
                            0.1111111111111111,
                            "#46039f"
                          ],
                          [
                            0.2222222222222222,
                            "#7201a8"
                          ],
                          [
                            0.3333333333333333,
                            "#9c179e"
                          ],
                          [
                            0.4444444444444444,
                            "#bd3786"
                          ],
                          [
                            0.5555555555555556,
                            "#d8576b"
                          ],
                          [
                            0.6666666666666666,
                            "#ed7953"
                          ],
                          [
                            0.7777777777777778,
                            "#fb9f3a"
                          ],
                          [
                            0.8888888888888888,
                            "#fdca26"
                          ],
                          [
                            1,
                            "#f0f921"
                          ]
                        ],
                        "type": "surface"
                      }
                    ],
                    "table": [
                      {
                        "cells": {
                          "fill": {
                            "color": "#EBF0F8"
                          },
                          "line": {
                            "color": "white"
                          }
                        },
                        "header": {
                          "fill": {
                            "color": "#C8D4E3"
                          },
                          "line": {
                            "color": "white"
                          }
                        },
                        "type": "table"
                      }
                    ]
                  },
                  "layout": {
                    "annotationdefaults": {
                      "arrowcolor": "#2a3f5f",
                      "arrowhead": 0,
                      "arrowwidth": 1
                    },
                    "autotypenumbers": "strict",
                    "coloraxis": {
                      "colorbar": {
                        "outlinewidth": 0,
                        "ticks": ""
                      }
                    },
                    "colorscale": {
                      "diverging": [
                        [
                          0,
                          "#8e0152"
                        ],
                        [
                          0.1,
                          "#c51b7d"
                        ],
                        [
                          0.2,
                          "#de77ae"
                        ],
                        [
                          0.3,
                          "#f1b6da"
                        ],
                        [
                          0.4,
                          "#fde0ef"
                        ],
                        [
                          0.5,
                          "#f7f7f7"
                        ],
                        [
                          0.6,
                          "#e6f5d0"
                        ],
                        [
                          0.7,
                          "#b8e186"
                        ],
                        [
                          0.8,
                          "#7fbc41"
                        ],
                        [
                          0.9,
                          "#4d9221"
                        ],
                        [
                          1,
                          "#276419"
                        ]
                      ],
                      "sequential": [
                        [
                          0,
                          "#0d0887"
                        ],
                        [
                          0.1111111111111111,
                          "#46039f"
                        ],
                        [
                          0.2222222222222222,
                          "#7201a8"
                        ],
                        [
                          0.3333333333333333,
                          "#9c179e"
                        ],
                        [
                          0.4444444444444444,
                          "#bd3786"
                        ],
                        [
                          0.5555555555555556,
                          "#d8576b"
                        ],
                        [
                          0.6666666666666666,
                          "#ed7953"
                        ],
                        [
                          0.7777777777777778,
                          "#fb9f3a"
                        ],
                        [
                          0.8888888888888888,
                          "#fdca26"
                        ],
                        [
                          1,
                          "#f0f921"
                        ]
                      ],
                      "sequentialminus": [
                        [
                          0,
                          "#0d0887"
                        ],
                        [
                          0.1111111111111111,
                          "#46039f"
                        ],
                        [
                          0.2222222222222222,
                          "#7201a8"
                        ],
                        [
                          0.3333333333333333,
                          "#9c179e"
                        ],
                        [
                          0.4444444444444444,
                          "#bd3786"
                        ],
                        [
                          0.5555555555555556,
                          "#d8576b"
                        ],
                        [
                          0.6666666666666666,
                          "#ed7953"
                        ],
                        [
                          0.7777777777777778,
                          "#fb9f3a"
                        ],
                        [
                          0.8888888888888888,
                          "#fdca26"
                        ],
                        [
                          1,
                          "#f0f921"
                        ]
                      ]
                    },
                    "colorway": [
                      "#636efa",
                      "#EF553B",
                      "#00cc96",
                      "#ab63fa",
                      "#FFA15A",
                      "#19d3f3",
                      "#FF6692",
                      "#B6E880",
                      "#FF97FF",
                      "#FECB52"
                    ],
                    "font": {
                      "color": "#2a3f5f"
                    },
                    "geo": {
                      "bgcolor": "white",
                      "lakecolor": "white",
                      "landcolor": "#E5ECF6",
                      "showlakes": true,
                      "showland": true,
                      "subunitcolor": "white"
                    },
                    "hoverlabel": {
                      "align": "left"
                    },
                    "hovermode": "closest",
                    "mapbox": {
                      "style": "light"
                    },
                    "paper_bgcolor": "white",
                    "plot_bgcolor": "#E5ECF6",
                    "polar": {
                      "angularaxis": {
                        "gridcolor": "white",
                        "linecolor": "white",
                        "ticks": ""
                      },
                      "bgcolor": "#E5ECF6",
                      "radialaxis": {
                        "gridcolor": "white",
                        "linecolor": "white",
                        "ticks": ""
                      }
                    },
                    "scene": {
                      "xaxis": {
                        "backgroundcolor": "#E5ECF6",
                        "gridcolor": "white",
                        "gridwidth": 2,
                        "linecolor": "white",
                        "showbackground": true,
                        "ticks": "",
                        "zerolinecolor": "white"
                      },
                      "yaxis": {
                        "backgroundcolor": "#E5ECF6",
                        "gridcolor": "white",
                        "gridwidth": 2,
                        "linecolor": "white",
                        "showbackground": true,
                        "ticks": "",
                        "zerolinecolor": "white"
                      },
                      "zaxis": {
                        "backgroundcolor": "#E5ECF6",
                        "gridcolor": "white",
                        "gridwidth": 2,
                        "linecolor": "white",
                        "showbackground": true,
                        "ticks": "",
                        "zerolinecolor": "white"
                      }
                    },
                    "shapedefaults": {
                      "line": {
                        "color": "#2a3f5f"
                      }
                    },
                    "ternary": {
                      "aaxis": {
                        "gridcolor": "white",
                        "linecolor": "white",
                        "ticks": ""
                      },
                      "baxis": {
                        "gridcolor": "white",
                        "linecolor": "white",
                        "ticks": ""
                      },
                      "bgcolor": "#E5ECF6",
                      "caxis": {
                        "gridcolor": "white",
                        "linecolor": "white",
                        "ticks": ""
                      }
                    },
                    "title": {
                      "x": 0.05
                    },
                    "xaxis": {
                      "automargin": true,
                      "gridcolor": "white",
                      "linecolor": "white",
                      "ticks": "",
                      "title": {
                        "standoff": 15
                      },
                      "zerolinecolor": "white",
                      "zerolinewidth": 2
                    },
                    "yaxis": {
                      "automargin": true,
                      "gridcolor": "white",
                      "linecolor": "white",
                      "ticks": "",
                      "title": {
                        "standoff": 15
                      },
                      "zerolinecolor": "white",
                      "zerolinewidth": 2
                    }
                  }
                },
                "title": {
                  "text": "Top 5 Highest Spend Orders - Items per Category"
                },
                "width": 600,
                "xaxis": {
                  "anchor": "y",
                  "domain": [
                    0,
                    1
                  ],
                  "tickmode": "array",
                  "ticktext": [
                    "330",
                    "330",
                    "330",
                    "330",
                    "440",
                    "440",
                    "440",
                    "440",
                    "1957",
                    "1957",
                    "1957",
                    "1957",
                    "2075",
                    "2075",
                    "2075",
                    "2075",
                    "2675",
                    "2675",
                    "2675",
                    "2675"
                  ],
                  "tickvals": [
                    330,
                    330,
                    330,
                    330,
                    440,
                    440,
                    440,
                    440,
                    1957,
                    1957,
                    1957,
                    1957,
                    2075,
                    2075,
                    2075,
                    2075,
                    2675,
                    2675,
                    2675,
                    2675
                  ],
                  "title": {
                    "text": "Order ID"
                  }
                },
                "yaxis": {
                  "anchor": "x",
                  "domain": [
                    0,
                    1
                  ],
                  "title": {
                    "text": "Number of Items"
                  }
                }
              }
            }
          },
          "metadata": {},
          "output_type": "display_data"
        }
      ],
      "source": [
        "# Visualization for the top 5 highest spend orders\n",
        "fig_top_5_orders = px.bar(top_5_orders_df, x='order_id', y='num_items', color='category',\n",
        "                         title='Top 5 Highest Spend Orders - Items per Category',\n",
        "                         labels={'order_id': 'Order ID', 'num_items': 'Number of Items'})\n",
        "\n",
        "# Customize layout to adjust figure size and bar thickness\n",
        "fig_top_5_orders.update_layout(\n",
        "    width=600,  # Set the width of the figure\n",
        "    height=500, # Set the height of the figure\n",
        "    xaxis=dict(\n",
        "        tickmode='array',\n",
        "        tickvals=top_5_orders_df['order_id'],  # Show ticks only for plotted bars\n",
        "        ticktext=[str(order_id) for order_id in top_5_orders_df['order_id']]\n",
        "    ),\n",
        "    bargap=0.1  # Reduce the gap between bars; set to a lower value to make bars thicker\n",
        ")\n",
        "fig_top_5_orders.show()"
      ]
    }
  ],
  "metadata": {
    "colab": {
      "provenance": []
    },
    "kernelspec": {
      "display_name": "Python 3",
      "name": "python3"
    },
    "language_info": {
      "codemirror_mode": {
        "name": "ipython",
        "version": 3
      },
      "file_extension": ".py",
      "mimetype": "text/x-python",
      "name": "python",
      "nbconvert_exporter": "python",
      "pygments_lexer": "ipython3",
      "version": "3.9.19"
    }
  },
  "nbformat": 4,
  "nbformat_minor": 0
}
